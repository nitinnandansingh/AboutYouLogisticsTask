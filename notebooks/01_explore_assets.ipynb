{
 "cells": [
  {
   "cell_type": "code",
   "execution_count": 149,
   "metadata": {},
   "outputs": [],
   "source": [
    "import os\n",
    "import pandas as pd\n",
    "import matplotlib.pyplot as plt"
   ]
  },
  {
   "cell_type": "markdown",
   "metadata": {},
   "source": [
    "## Fetch data"
   ]
  },
  {
   "cell_type": "code",
   "execution_count": 150,
   "metadata": {},
   "outputs": [],
   "source": [
    "b2c_sales_df = pd.read_csv('/Users/nitinnandansingh/Documents/workspace/AboutYouLogisticsTask/assets/b2c_items_sales_forecast - b2c_items_sales_forecast.csv')\n",
    "scd_sales_df = pd.read_csv('/Users/nitinnandansingh/Documents/workspace/AboutYouLogisticsTask/assets/scd_items_sales_foreecast - scd_items_sales_forecast.csv')\n",
    "icd_sales_df = pd.read_csv('/Users/nitinnandansingh/Documents/workspace/AboutYouLogisticsTask/assets/icd_items_sales_forecast - icd_items_sales_forecast.csv')\n",
    "it_cd_shift_df = pd.read_csv('/Users/nitinnandansingh/Documents/workspace/AboutYouLogisticsTask/assets/item_cross_docking_shift - item_cross_docking_shift.csv')\n",
    "it_blocked_df = pd.read_csv('/Users/nitinnandansingh/Documents/workspace/AboutYouLogisticsTask/assets/items_blocked_per_cd_item - items_blocked_per_cd_item.csv')"
   ]
  },
  {
   "cell_type": "code",
   "execution_count": 151,
   "metadata": {},
   "outputs": [],
   "source": [
    "# to perform analysis on dates, i will first convert date values in to datetime. This information I gathered after performing some analyses beforehand.\n",
    "\n",
    "b2c_sales_df['date'] = pd.to_datetime(b2c_sales_df['date'])\n",
    "b2c_sales_df['forecast_date'] = pd.to_datetime(b2c_sales_df['forecast_date'])\n",
    "\n",
    "scd_sales_df['date'] = pd.to_datetime(scd_sales_df['date'])\n",
    "scd_sales_df['forecast_date'] = pd.to_datetime(scd_sales_df['forecast_date'])\n",
    "\n",
    "\n",
    "icd_sales_df['date'] = pd.to_datetime(icd_sales_df['date'])\n",
    "icd_sales_df['forecast_date'] = pd.to_datetime(icd_sales_df['forecast_date'])\n",
    "\n",
    "\n",
    "it_cd_shift_df['exported_at_picking_warehouse'] = pd.to_datetime(it_cd_shift_df['exported_at_picking_warehouse'])\n",
    "\n",
    "\n",
    "it_blocked_df['date'] = pd.to_datetime(it_blocked_df['date'])"
   ]
  },
  {
   "cell_type": "markdown",
   "metadata": {},
   "source": [
    "### B2C items sales forecast"
   ]
  },
  {
   "cell_type": "markdown",
   "metadata": {},
   "source": [
    "This dataset gives information about the number of items forecasted to be shipped from a shipping warehouse on a particular date.\n",
    "b2c_sales_df is a mix of both regular B2C orders and B2C with ICD orders."
   ]
  },
  {
   "cell_type": "code",
   "execution_count": 152,
   "metadata": {},
   "outputs": [
    {
     "name": "stdout",
     "output_type": "stream",
     "text": [
      "(10556, 7)\n"
     ]
    },
    {
     "data": {
      "text/html": [
       "<div>\n",
       "<style scoped>\n",
       "    .dataframe tbody tr th:only-of-type {\n",
       "        vertical-align: middle;\n",
       "    }\n",
       "\n",
       "    .dataframe tbody tr th {\n",
       "        vertical-align: top;\n",
       "    }\n",
       "\n",
       "    .dataframe thead th {\n",
       "        text-align: right;\n",
       "    }\n",
       "</style>\n",
       "<table border=\"1\" class=\"dataframe\">\n",
       "  <thead>\n",
       "    <tr style=\"text-align: right;\">\n",
       "      <th></th>\n",
       "      <th>forecast_date</th>\n",
       "      <th>version</th>\n",
       "      <th>scenario_id</th>\n",
       "      <th>date</th>\n",
       "      <th>planning_shop_cluster</th>\n",
       "      <th>shipping_wh</th>\n",
       "      <th>sales_forecast_items</th>\n",
       "    </tr>\n",
       "  </thead>\n",
       "  <tbody>\n",
       "    <tr>\n",
       "      <th>0</th>\n",
       "      <td>2024-06-04</td>\n",
       "      <td>1</td>\n",
       "      <td>0</td>\n",
       "      <td>2024-05-27</td>\n",
       "      <td>AT</td>\n",
       "      <td>1</td>\n",
       "      <td>2277</td>\n",
       "    </tr>\n",
       "    <tr>\n",
       "      <th>1</th>\n",
       "      <td>2024-06-04</td>\n",
       "      <td>1</td>\n",
       "      <td>0</td>\n",
       "      <td>2024-05-27</td>\n",
       "      <td>AT</td>\n",
       "      <td>2</td>\n",
       "      <td>0</td>\n",
       "    </tr>\n",
       "    <tr>\n",
       "      <th>2</th>\n",
       "      <td>2024-06-04</td>\n",
       "      <td>1</td>\n",
       "      <td>0</td>\n",
       "      <td>2024-05-27</td>\n",
       "      <td>AT</td>\n",
       "      <td>4</td>\n",
       "      <td>0</td>\n",
       "    </tr>\n",
       "    <tr>\n",
       "      <th>3</th>\n",
       "      <td>2024-06-04</td>\n",
       "      <td>1</td>\n",
       "      <td>0</td>\n",
       "      <td>2024-05-27</td>\n",
       "      <td>AT</td>\n",
       "      <td>3</td>\n",
       "      <td>0</td>\n",
       "    </tr>\n",
       "    <tr>\n",
       "      <th>4</th>\n",
       "      <td>2024-06-04</td>\n",
       "      <td>1</td>\n",
       "      <td>0</td>\n",
       "      <td>2024-05-28</td>\n",
       "      <td>AT</td>\n",
       "      <td>3</td>\n",
       "      <td>0</td>\n",
       "    </tr>\n",
       "  </tbody>\n",
       "</table>\n",
       "</div>"
      ],
      "text/plain": [
       "  forecast_date  version  scenario_id       date planning_shop_cluster  \\\n",
       "0    2024-06-04        1            0 2024-05-27                    AT   \n",
       "1    2024-06-04        1            0 2024-05-27                    AT   \n",
       "2    2024-06-04        1            0 2024-05-27                    AT   \n",
       "3    2024-06-04        1            0 2024-05-27                    AT   \n",
       "4    2024-06-04        1            0 2024-05-28                    AT   \n",
       "\n",
       "   shipping_wh  sales_forecast_items  \n",
       "0            1                  2277  \n",
       "1            2                     0  \n",
       "2            4                     0  \n",
       "3            3                     0  \n",
       "4            3                     0  "
      ]
     },
     "execution_count": 152,
     "metadata": {},
     "output_type": "execute_result"
    }
   ],
   "source": [
    "print(b2c_sales_df.shape)\n",
    "b2c_sales_df.head()"
   ]
  },
  {
   "cell_type": "code",
   "execution_count": 153,
   "metadata": {},
   "outputs": [
    {
     "data": {
      "text/plain": [
       "Index(['forecast_date', 'version', 'scenario_id', 'date',\n",
       "       'planning_shop_cluster', 'shipping_wh', 'sales_forecast_items'],\n",
       "      dtype='object')"
      ]
     },
     "execution_count": 153,
     "metadata": {},
     "output_type": "execute_result"
    }
   ],
   "source": [
    "b2c_sales_df.columns"
   ]
  },
  {
   "cell_type": "code",
   "execution_count": 154,
   "metadata": {},
   "outputs": [
    {
     "name": "stdout",
     "output_type": "stream",
     "text": [
      "<class 'pandas.core.frame.DataFrame'>\n",
      "RangeIndex: 10556 entries, 0 to 10555\n",
      "Data columns (total 7 columns):\n",
      " #   Column                 Non-Null Count  Dtype         \n",
      "---  ------                 --------------  -----         \n",
      " 0   forecast_date          10556 non-null  datetime64[ns]\n",
      " 1   version                10556 non-null  int64         \n",
      " 2   scenario_id            10556 non-null  int64         \n",
      " 3   date                   10556 non-null  datetime64[ns]\n",
      " 4   planning_shop_cluster  10556 non-null  object        \n",
      " 5   shipping_wh            10556 non-null  int64         \n",
      " 6   sales_forecast_items   10556 non-null  int64         \n",
      "dtypes: datetime64[ns](2), int64(4), object(1)\n",
      "memory usage: 577.4+ KB\n"
     ]
    }
   ],
   "source": [
    "b2c_sales_df.info()"
   ]
  },
  {
   "cell_type": "markdown",
   "metadata": {},
   "source": [
    "The date columns might need to be converted into datetime type"
   ]
  },
  {
   "cell_type": "code",
   "execution_count": 155,
   "metadata": {},
   "outputs": [
    {
     "data": {
      "text/html": [
       "<div>\n",
       "<style scoped>\n",
       "    .dataframe tbody tr th:only-of-type {\n",
       "        vertical-align: middle;\n",
       "    }\n",
       "\n",
       "    .dataframe tbody tr th {\n",
       "        vertical-align: top;\n",
       "    }\n",
       "\n",
       "    .dataframe thead th {\n",
       "        text-align: right;\n",
       "    }\n",
       "</style>\n",
       "<table border=\"1\" class=\"dataframe\">\n",
       "  <thead>\n",
       "    <tr style=\"text-align: right;\">\n",
       "      <th></th>\n",
       "      <th>forecast_date</th>\n",
       "      <th>version</th>\n",
       "      <th>scenario_id</th>\n",
       "      <th>date</th>\n",
       "      <th>planning_shop_cluster</th>\n",
       "      <th>shipping_wh</th>\n",
       "      <th>sales_forecast_items</th>\n",
       "    </tr>\n",
       "  </thead>\n",
       "  <tbody>\n",
       "    <tr>\n",
       "      <th>count</th>\n",
       "      <td>10556</td>\n",
       "      <td>10556.0</td>\n",
       "      <td>10556.0</td>\n",
       "      <td>10556</td>\n",
       "      <td>10556</td>\n",
       "      <td>10556.0</td>\n",
       "      <td>10556.0</td>\n",
       "    </tr>\n",
       "    <tr>\n",
       "      <th>unique</th>\n",
       "      <td></td>\n",
       "      <td></td>\n",
       "      <td></td>\n",
       "      <td></td>\n",
       "      <td>29</td>\n",
       "      <td></td>\n",
       "      <td></td>\n",
       "    </tr>\n",
       "    <tr>\n",
       "      <th>top</th>\n",
       "      <td></td>\n",
       "      <td></td>\n",
       "      <td></td>\n",
       "      <td></td>\n",
       "      <td>AT</td>\n",
       "      <td></td>\n",
       "      <td></td>\n",
       "    </tr>\n",
       "    <tr>\n",
       "      <th>freq</th>\n",
       "      <td></td>\n",
       "      <td></td>\n",
       "      <td></td>\n",
       "      <td></td>\n",
       "      <td>364</td>\n",
       "      <td></td>\n",
       "      <td></td>\n",
       "    </tr>\n",
       "    <tr>\n",
       "      <th>mean</th>\n",
       "      <td>2024-06-04 00:00:00</td>\n",
       "      <td>1.0</td>\n",
       "      <td>0.0</td>\n",
       "      <td>2024-07-11 00:00:00</td>\n",
       "      <td></td>\n",
       "      <td>2.5</td>\n",
       "      <td>573.839428</td>\n",
       "    </tr>\n",
       "    <tr>\n",
       "      <th>min</th>\n",
       "      <td>2024-06-04 00:00:00</td>\n",
       "      <td>1.0</td>\n",
       "      <td>0.0</td>\n",
       "      <td>2024-05-27 00:00:00</td>\n",
       "      <td></td>\n",
       "      <td>1.0</td>\n",
       "      <td>0.0</td>\n",
       "    </tr>\n",
       "    <tr>\n",
       "      <th>25%</th>\n",
       "      <td>2024-06-04 00:00:00</td>\n",
       "      <td>1.0</td>\n",
       "      <td>0.0</td>\n",
       "      <td>2024-06-18 00:00:00</td>\n",
       "      <td></td>\n",
       "      <td>1.75</td>\n",
       "      <td>0.0</td>\n",
       "    </tr>\n",
       "    <tr>\n",
       "      <th>50%</th>\n",
       "      <td>2024-06-04 00:00:00</td>\n",
       "      <td>1.0</td>\n",
       "      <td>0.0</td>\n",
       "      <td>2024-07-11 00:00:00</td>\n",
       "      <td></td>\n",
       "      <td>2.5</td>\n",
       "      <td>0.0</td>\n",
       "    </tr>\n",
       "    <tr>\n",
       "      <th>75%</th>\n",
       "      <td>2024-06-04 00:00:00</td>\n",
       "      <td>1.0</td>\n",
       "      <td>0.0</td>\n",
       "      <td>2024-08-03 00:00:00</td>\n",
       "      <td></td>\n",
       "      <td>3.25</td>\n",
       "      <td>4.0</td>\n",
       "    </tr>\n",
       "    <tr>\n",
       "      <th>max</th>\n",
       "      <td>2024-06-04 00:00:00</td>\n",
       "      <td>1.0</td>\n",
       "      <td>0.0</td>\n",
       "      <td>2024-08-25 00:00:00</td>\n",
       "      <td></td>\n",
       "      <td>4.0</td>\n",
       "      <td>38967.0</td>\n",
       "    </tr>\n",
       "    <tr>\n",
       "      <th>std</th>\n",
       "      <td></td>\n",
       "      <td>0.0</td>\n",
       "      <td>0.0</td>\n",
       "      <td></td>\n",
       "      <td></td>\n",
       "      <td>1.118087</td>\n",
       "      <td>2433.909645</td>\n",
       "    </tr>\n",
       "  </tbody>\n",
       "</table>\n",
       "</div>"
      ],
      "text/plain": [
       "              forecast_date  version scenario_id                 date  \\\n",
       "count                 10556  10556.0     10556.0                10556   \n",
       "unique                                                                  \n",
       "top                                                                     \n",
       "freq                                                                    \n",
       "mean    2024-06-04 00:00:00      1.0         0.0  2024-07-11 00:00:00   \n",
       "min     2024-06-04 00:00:00      1.0         0.0  2024-05-27 00:00:00   \n",
       "25%     2024-06-04 00:00:00      1.0         0.0  2024-06-18 00:00:00   \n",
       "50%     2024-06-04 00:00:00      1.0         0.0  2024-07-11 00:00:00   \n",
       "75%     2024-06-04 00:00:00      1.0         0.0  2024-08-03 00:00:00   \n",
       "max     2024-06-04 00:00:00      1.0         0.0  2024-08-25 00:00:00   \n",
       "std                              0.0         0.0                        \n",
       "\n",
       "       planning_shop_cluster shipping_wh sales_forecast_items  \n",
       "count                  10556     10556.0              10556.0  \n",
       "unique                    29                                   \n",
       "top                       AT                                   \n",
       "freq                     364                                   \n",
       "mean                                 2.5           573.839428  \n",
       "min                                  1.0                  0.0  \n",
       "25%                                 1.75                  0.0  \n",
       "50%                                  2.5                  0.0  \n",
       "75%                                 3.25                  4.0  \n",
       "max                                  4.0              38967.0  \n",
       "std                             1.118087          2433.909645  "
      ]
     },
     "execution_count": 155,
     "metadata": {},
     "output_type": "execute_result"
    }
   ],
   "source": [
    "b2c_sales_df.describe(include='all').fillna('')"
   ]
  },
  {
   "cell_type": "code",
   "execution_count": 156,
   "metadata": {},
   "outputs": [
    {
     "data": {
      "text/plain": [
       "forecast_date            0\n",
       "version                  0\n",
       "scenario_id              0\n",
       "date                     0\n",
       "planning_shop_cluster    0\n",
       "shipping_wh              0\n",
       "sales_forecast_items     0\n",
       "dtype: int64"
      ]
     },
     "execution_count": 156,
     "metadata": {},
     "output_type": "execute_result"
    }
   ],
   "source": [
    "b2c_sales_df.isnull().sum()"
   ]
  },
  {
   "cell_type": "code",
   "execution_count": 157,
   "metadata": {},
   "outputs": [
    {
     "name": "stdout",
     "output_type": "stream",
     "text": [
      "2024-06-04 00:00:00 2024-06-04 00:00:00\n"
     ]
    }
   ],
   "source": [
    "print(b2c_sales_df.forecast_date.min(), b2c_sales_df.forecast_date.max())"
   ]
  },
  {
   "cell_type": "code",
   "execution_count": 158,
   "metadata": {},
   "outputs": [
    {
     "name": "stdout",
     "output_type": "stream",
     "text": [
      "2024-05-27 00:00:00 2024-08-25 00:00:00\n"
     ]
    }
   ],
   "source": [
    "print(b2c_sales_df.date.min(), b2c_sales_df.date.max())"
   ]
  },
  {
   "cell_type": "code",
   "execution_count": 159,
   "metadata": {},
   "outputs": [
    {
     "data": {
      "text/plain": [
       "Timedelta('90 days 00:00:00')"
      ]
     },
     "execution_count": 159,
     "metadata": {},
     "output_type": "execute_result"
    }
   ],
   "source": [
    "b2c_sales_df.date.max()-b2c_sales_df.date.min()"
   ]
  },
  {
   "cell_type": "markdown",
   "metadata": {},
   "source": [
    "The dates range from 27 May 2024 to 25 August 2024, 91 days in total"
   ]
  },
  {
   "cell_type": "code",
   "execution_count": 160,
   "metadata": {},
   "outputs": [
    {
     "data": {
      "text/plain": [
       "array([1])"
      ]
     },
     "execution_count": 160,
     "metadata": {},
     "output_type": "execute_result"
    }
   ],
   "source": [
    "b2c_sales_df['version'].unique()"
   ]
  },
  {
   "cell_type": "markdown",
   "metadata": {},
   "source": [
    "There is only one value in version column -> 1 (one)"
   ]
  },
  {
   "cell_type": "code",
   "execution_count": 161,
   "metadata": {},
   "outputs": [
    {
     "data": {
      "text/plain": [
       "array([0])"
      ]
     },
     "execution_count": 161,
     "metadata": {},
     "output_type": "execute_result"
    }
   ],
   "source": [
    "b2c_sales_df['scenario_id'].unique()"
   ]
  },
  {
   "cell_type": "markdown",
   "metadata": {},
   "source": [
    "There is only one value in scenario_id column -> 0 (zero)"
   ]
  },
  {
   "cell_type": "code",
   "execution_count": 162,
   "metadata": {},
   "outputs": [
    {
     "name": "stdout",
     "output_type": "stream",
     "text": [
      "29\n"
     ]
    },
    {
     "data": {
      "text/plain": [
       "array(['AT', 'BE', 'BG', 'CH', 'CY', 'CZ', 'DE', 'DK', 'EE', 'ES', 'FI',\n",
       "       'FR', 'GR', 'HR', 'HU', 'IE', 'IT', 'LT', 'LU', 'LV', 'NL', 'NO',\n",
       "       'PL', 'PT', 'RO', 'SE', 'SI', 'SK', 'ZZ'], dtype=object)"
      ]
     },
     "execution_count": 162,
     "metadata": {},
     "output_type": "execute_result"
    }
   ],
   "source": [
    "print(len(b2c_sales_df['planning_shop_cluster'].unique()))\n",
    "b2c_sales_df['planning_shop_cluster'].unique()\n"
   ]
  },
  {
   "cell_type": "markdown",
   "metadata": {},
   "source": [
    "This appears to be code for different countries"
   ]
  },
  {
   "cell_type": "code",
   "execution_count": 163,
   "metadata": {},
   "outputs": [
    {
     "data": {
      "text/plain": [
       "planning_shop_cluster\n",
       "AT    364\n",
       "IE    364\n",
       "SK    364\n",
       "SI    364\n",
       "SE    364\n",
       "RO    364\n",
       "PT    364\n",
       "PL    364\n",
       "NO    364\n",
       "NL    364\n",
       "LV    364\n",
       "LU    364\n",
       "LT    364\n",
       "IT    364\n",
       "HU    364\n",
       "BE    364\n",
       "HR    364\n",
       "GR    364\n",
       "FR    364\n",
       "FI    364\n",
       "ES    364\n",
       "EE    364\n",
       "DK    364\n",
       "DE    364\n",
       "CZ    364\n",
       "CY    364\n",
       "CH    364\n",
       "BG    364\n",
       "ZZ    364\n",
       "Name: count, dtype: int64"
      ]
     },
     "execution_count": 163,
     "metadata": {},
     "output_type": "execute_result"
    }
   ],
   "source": [
    "b2c_sales_df['planning_shop_cluster'].value_counts()"
   ]
  },
  {
   "cell_type": "code",
   "execution_count": 164,
   "metadata": {},
   "outputs": [
    {
     "data": {
      "text/plain": [
       "10556"
      ]
     },
     "execution_count": 164,
     "metadata": {},
     "output_type": "execute_result"
    }
   ],
   "source": [
    "len(b2c_sales_df['planning_shop_cluster'].unique())*364"
   ]
  },
  {
   "cell_type": "markdown",
   "metadata": {},
   "source": [
    "It appears that for each country there are 364 records. making it 10556 records in all which corresponds with the size of the dataset."
   ]
  },
  {
   "cell_type": "code",
   "execution_count": 222,
   "metadata": {},
   "outputs": [
    {
     "data": {
      "image/png": "[encoded data removed]",
      "text/plain": [
       "<Figure size 1000x600 with 1 Axes>"
      ]
     },
     "metadata": {},
     "output_type": "display_data"
    }
   ],
   "source": [
    "# Plot for sales forecast for each country\n",
    "top_countries = b2c_sales_df.groupby('planning_shop_cluster')['sales_forecast_items'].sum()\n",
    "top_countries.plot(kind='bar', figsize=(10, 6), color='green')\n",
    "plt.title('Top 10 countries by forecasted B2C sales')\n",
    "plt.ylabel('Total items forecasted')\n",
    "plt.xlabel('Country')\n",
    "plt.grid(axis='y')\n",
    "plt.show()"
   ]
  },
  {
   "cell_type": "code",
   "execution_count": 165,
   "metadata": {},
   "outputs": [
    {
     "data": {
      "text/plain": [
       "array([1, 2, 4, 3])"
      ]
     },
     "execution_count": 165,
     "metadata": {},
     "output_type": "execute_result"
    }
   ],
   "source": [
    "b2c_sales_df['shipping_wh'].unique()"
   ]
  },
  {
   "cell_type": "markdown",
   "metadata": {},
   "source": [
    "There are 4 shipping warehouses"
   ]
  },
  {
   "cell_type": "code",
   "execution_count": 166,
   "metadata": {},
   "outputs": [
    {
     "name": "stdout",
     "output_type": "stream",
     "text": [
      "0 38967\n"
     ]
    }
   ],
   "source": [
    "print(b2c_sales_df['sales_forecast_items'].min(),b2c_sales_df['sales_forecast_items'].max())"
   ]
  },
  {
   "cell_type": "code",
   "execution_count": 167,
   "metadata": {},
   "outputs": [
    {
     "data": {
      "text/html": [
       "<div>\n",
       "<style scoped>\n",
       "    .dataframe tbody tr th:only-of-type {\n",
       "        vertical-align: middle;\n",
       "    }\n",
       "\n",
       "    .dataframe tbody tr th {\n",
       "        vertical-align: top;\n",
       "    }\n",
       "\n",
       "    .dataframe thead th {\n",
       "        text-align: right;\n",
       "    }\n",
       "</style>\n",
       "<table border=\"1\" class=\"dataframe\">\n",
       "  <thead>\n",
       "    <tr style=\"text-align: right;\">\n",
       "      <th></th>\n",
       "      <th>forecast_date</th>\n",
       "      <th>version</th>\n",
       "      <th>scenario_id</th>\n",
       "      <th>date</th>\n",
       "      <th>planning_shop_cluster</th>\n",
       "      <th>shipping_wh</th>\n",
       "      <th>sales_forecast_items</th>\n",
       "    </tr>\n",
       "  </thead>\n",
       "  <tbody>\n",
       "    <tr>\n",
       "      <th>0</th>\n",
       "      <td>2024-06-04</td>\n",
       "      <td>1</td>\n",
       "      <td>0</td>\n",
       "      <td>2024-05-27</td>\n",
       "      <td>AT</td>\n",
       "      <td>1</td>\n",
       "      <td>2277</td>\n",
       "    </tr>\n",
       "    <tr>\n",
       "      <th>1</th>\n",
       "      <td>2024-06-04</td>\n",
       "      <td>1</td>\n",
       "      <td>0</td>\n",
       "      <td>2024-05-27</td>\n",
       "      <td>AT</td>\n",
       "      <td>2</td>\n",
       "      <td>0</td>\n",
       "    </tr>\n",
       "    <tr>\n",
       "      <th>2</th>\n",
       "      <td>2024-06-04</td>\n",
       "      <td>1</td>\n",
       "      <td>0</td>\n",
       "      <td>2024-05-27</td>\n",
       "      <td>AT</td>\n",
       "      <td>4</td>\n",
       "      <td>0</td>\n",
       "    </tr>\n",
       "    <tr>\n",
       "      <th>3</th>\n",
       "      <td>2024-06-04</td>\n",
       "      <td>1</td>\n",
       "      <td>0</td>\n",
       "      <td>2024-05-27</td>\n",
       "      <td>AT</td>\n",
       "      <td>3</td>\n",
       "      <td>0</td>\n",
       "    </tr>\n",
       "    <tr>\n",
       "      <th>4</th>\n",
       "      <td>2024-06-04</td>\n",
       "      <td>1</td>\n",
       "      <td>0</td>\n",
       "      <td>2024-05-28</td>\n",
       "      <td>AT</td>\n",
       "      <td>3</td>\n",
       "      <td>0</td>\n",
       "    </tr>\n",
       "    <tr>\n",
       "      <th>5</th>\n",
       "      <td>2024-06-04</td>\n",
       "      <td>1</td>\n",
       "      <td>0</td>\n",
       "      <td>2024-05-28</td>\n",
       "      <td>AT</td>\n",
       "      <td>4</td>\n",
       "      <td>0</td>\n",
       "    </tr>\n",
       "    <tr>\n",
       "      <th>6</th>\n",
       "      <td>2024-06-04</td>\n",
       "      <td>1</td>\n",
       "      <td>0</td>\n",
       "      <td>2024-05-28</td>\n",
       "      <td>AT</td>\n",
       "      <td>1</td>\n",
       "      <td>2459</td>\n",
       "    </tr>\n",
       "    <tr>\n",
       "      <th>7</th>\n",
       "      <td>2024-06-04</td>\n",
       "      <td>1</td>\n",
       "      <td>0</td>\n",
       "      <td>2024-05-28</td>\n",
       "      <td>AT</td>\n",
       "      <td>2</td>\n",
       "      <td>0</td>\n",
       "    </tr>\n",
       "    <tr>\n",
       "      <th>8</th>\n",
       "      <td>2024-06-04</td>\n",
       "      <td>1</td>\n",
       "      <td>0</td>\n",
       "      <td>2024-05-29</td>\n",
       "      <td>AT</td>\n",
       "      <td>1</td>\n",
       "      <td>3056</td>\n",
       "    </tr>\n",
       "    <tr>\n",
       "      <th>9</th>\n",
       "      <td>2024-06-04</td>\n",
       "      <td>1</td>\n",
       "      <td>0</td>\n",
       "      <td>2024-05-29</td>\n",
       "      <td>AT</td>\n",
       "      <td>4</td>\n",
       "      <td>0</td>\n",
       "    </tr>\n",
       "    <tr>\n",
       "      <th>10</th>\n",
       "      <td>2024-06-04</td>\n",
       "      <td>1</td>\n",
       "      <td>0</td>\n",
       "      <td>2024-05-29</td>\n",
       "      <td>AT</td>\n",
       "      <td>2</td>\n",
       "      <td>0</td>\n",
       "    </tr>\n",
       "    <tr>\n",
       "      <th>11</th>\n",
       "      <td>2024-06-04</td>\n",
       "      <td>1</td>\n",
       "      <td>0</td>\n",
       "      <td>2024-05-29</td>\n",
       "      <td>AT</td>\n",
       "      <td>3</td>\n",
       "      <td>0</td>\n",
       "    </tr>\n",
       "    <tr>\n",
       "      <th>12</th>\n",
       "      <td>2024-06-04</td>\n",
       "      <td>1</td>\n",
       "      <td>0</td>\n",
       "      <td>2024-05-30</td>\n",
       "      <td>AT</td>\n",
       "      <td>4</td>\n",
       "      <td>0</td>\n",
       "    </tr>\n",
       "    <tr>\n",
       "      <th>13</th>\n",
       "      <td>2024-06-04</td>\n",
       "      <td>1</td>\n",
       "      <td>0</td>\n",
       "      <td>2024-05-30</td>\n",
       "      <td>AT</td>\n",
       "      <td>2</td>\n",
       "      <td>0</td>\n",
       "    </tr>\n",
       "    <tr>\n",
       "      <th>14</th>\n",
       "      <td>2024-06-04</td>\n",
       "      <td>1</td>\n",
       "      <td>0</td>\n",
       "      <td>2024-05-30</td>\n",
       "      <td>AT</td>\n",
       "      <td>1</td>\n",
       "      <td>3603</td>\n",
       "    </tr>\n",
       "    <tr>\n",
       "      <th>15</th>\n",
       "      <td>2024-06-04</td>\n",
       "      <td>1</td>\n",
       "      <td>0</td>\n",
       "      <td>2024-05-30</td>\n",
       "      <td>AT</td>\n",
       "      <td>3</td>\n",
       "      <td>0</td>\n",
       "    </tr>\n",
       "  </tbody>\n",
       "</table>\n",
       "</div>"
      ],
      "text/plain": [
       "   forecast_date  version  scenario_id       date planning_shop_cluster  \\\n",
       "0     2024-06-04        1            0 2024-05-27                    AT   \n",
       "1     2024-06-04        1            0 2024-05-27                    AT   \n",
       "2     2024-06-04        1            0 2024-05-27                    AT   \n",
       "3     2024-06-04        1            0 2024-05-27                    AT   \n",
       "4     2024-06-04        1            0 2024-05-28                    AT   \n",
       "5     2024-06-04        1            0 2024-05-28                    AT   \n",
       "6     2024-06-04        1            0 2024-05-28                    AT   \n",
       "7     2024-06-04        1            0 2024-05-28                    AT   \n",
       "8     2024-06-04        1            0 2024-05-29                    AT   \n",
       "9     2024-06-04        1            0 2024-05-29                    AT   \n",
       "10    2024-06-04        1            0 2024-05-29                    AT   \n",
       "11    2024-06-04        1            0 2024-05-29                    AT   \n",
       "12    2024-06-04        1            0 2024-05-30                    AT   \n",
       "13    2024-06-04        1            0 2024-05-30                    AT   \n",
       "14    2024-06-04        1            0 2024-05-30                    AT   \n",
       "15    2024-06-04        1            0 2024-05-30                    AT   \n",
       "\n",
       "    shipping_wh  sales_forecast_items  \n",
       "0             1                  2277  \n",
       "1             2                     0  \n",
       "2             4                     0  \n",
       "3             3                     0  \n",
       "4             3                     0  \n",
       "5             4                     0  \n",
       "6             1                  2459  \n",
       "7             2                     0  \n",
       "8             1                  3056  \n",
       "9             4                     0  \n",
       "10            2                     0  \n",
       "11            3                     0  \n",
       "12            4                     0  \n",
       "13            2                     0  \n",
       "14            1                  3603  \n",
       "15            3                     0  "
      ]
     },
     "execution_count": 167,
     "metadata": {},
     "output_type": "execute_result"
    }
   ],
   "source": [
    "b2c_sales_df.head(16)"
   ]
  },
  {
   "cell_type": "markdown",
   "metadata": {},
   "source": [
    "There are 4 rows for each date per country out of which one(or more) indicates a non-zero value in sales_forecast_items. It could indicate that no sales are forecasted for warehouses and dates that has sales_forecast_items as 0"
   ]
  },
  {
   "cell_type": "code",
   "execution_count": 168,
   "metadata": {},
   "outputs": [
    {
     "data": {
      "text/plain": [
       "10556"
      ]
     },
     "execution_count": 168,
     "metadata": {},
     "output_type": "execute_result"
    }
   ],
   "source": [
    "# countries * 91 days * records for each date\n",
    "len(b2c_sales_df['planning_shop_cluster'].unique())*91*4"
   ]
  },
  {
   "cell_type": "code",
   "execution_count": 169,
   "metadata": {},
   "outputs": [
    {
     "data": {
      "text/html": [
       "<div>\n",
       "<style scoped>\n",
       "    .dataframe tbody tr th:only-of-type {\n",
       "        vertical-align: middle;\n",
       "    }\n",
       "\n",
       "    .dataframe tbody tr th {\n",
       "        vertical-align: top;\n",
       "    }\n",
       "\n",
       "    .dataframe thead th {\n",
       "        text-align: right;\n",
       "    }\n",
       "</style>\n",
       "<table border=\"1\" class=\"dataframe\">\n",
       "  <thead>\n",
       "    <tr style=\"text-align: right;\">\n",
       "      <th></th>\n",
       "      <th>forecast_date</th>\n",
       "      <th>version</th>\n",
       "      <th>scenario_id</th>\n",
       "      <th>date</th>\n",
       "      <th>planning_shop_cluster</th>\n",
       "      <th>shipping_wh</th>\n",
       "      <th>sales_forecast_items</th>\n",
       "    </tr>\n",
       "  </thead>\n",
       "  <tbody>\n",
       "    <tr>\n",
       "      <th>4368</th>\n",
       "      <td>2024-06-04</td>\n",
       "      <td>1</td>\n",
       "      <td>0</td>\n",
       "      <td>2024-05-27</td>\n",
       "      <td>GR</td>\n",
       "      <td>3</td>\n",
       "      <td>0</td>\n",
       "    </tr>\n",
       "    <tr>\n",
       "      <th>4369</th>\n",
       "      <td>2024-06-04</td>\n",
       "      <td>1</td>\n",
       "      <td>0</td>\n",
       "      <td>2024-05-27</td>\n",
       "      <td>GR</td>\n",
       "      <td>2</td>\n",
       "      <td>421</td>\n",
       "    </tr>\n",
       "    <tr>\n",
       "      <th>4370</th>\n",
       "      <td>2024-06-04</td>\n",
       "      <td>1</td>\n",
       "      <td>0</td>\n",
       "      <td>2024-05-27</td>\n",
       "      <td>GR</td>\n",
       "      <td>4</td>\n",
       "      <td>0</td>\n",
       "    </tr>\n",
       "    <tr>\n",
       "      <th>4371</th>\n",
       "      <td>2024-06-04</td>\n",
       "      <td>1</td>\n",
       "      <td>0</td>\n",
       "      <td>2024-05-27</td>\n",
       "      <td>GR</td>\n",
       "      <td>1</td>\n",
       "      <td>0</td>\n",
       "    </tr>\n",
       "    <tr>\n",
       "      <th>4372</th>\n",
       "      <td>2024-06-04</td>\n",
       "      <td>1</td>\n",
       "      <td>0</td>\n",
       "      <td>2024-05-28</td>\n",
       "      <td>GR</td>\n",
       "      <td>3</td>\n",
       "      <td>0</td>\n",
       "    </tr>\n",
       "    <tr>\n",
       "      <th>4373</th>\n",
       "      <td>2024-06-04</td>\n",
       "      <td>1</td>\n",
       "      <td>0</td>\n",
       "      <td>2024-05-28</td>\n",
       "      <td>GR</td>\n",
       "      <td>2</td>\n",
       "      <td>458</td>\n",
       "    </tr>\n",
       "    <tr>\n",
       "      <th>4374</th>\n",
       "      <td>2024-06-04</td>\n",
       "      <td>1</td>\n",
       "      <td>0</td>\n",
       "      <td>2024-05-28</td>\n",
       "      <td>GR</td>\n",
       "      <td>1</td>\n",
       "      <td>0</td>\n",
       "    </tr>\n",
       "    <tr>\n",
       "      <th>4375</th>\n",
       "      <td>2024-06-04</td>\n",
       "      <td>1</td>\n",
       "      <td>0</td>\n",
       "      <td>2024-05-28</td>\n",
       "      <td>GR</td>\n",
       "      <td>4</td>\n",
       "      <td>0</td>\n",
       "    </tr>\n",
       "    <tr>\n",
       "      <th>4376</th>\n",
       "      <td>2024-06-04</td>\n",
       "      <td>1</td>\n",
       "      <td>0</td>\n",
       "      <td>2024-05-29</td>\n",
       "      <td>GR</td>\n",
       "      <td>4</td>\n",
       "      <td>0</td>\n",
       "    </tr>\n",
       "    <tr>\n",
       "      <th>4377</th>\n",
       "      <td>2024-06-04</td>\n",
       "      <td>1</td>\n",
       "      <td>0</td>\n",
       "      <td>2024-05-29</td>\n",
       "      <td>GR</td>\n",
       "      <td>1</td>\n",
       "      <td>0</td>\n",
       "    </tr>\n",
       "  </tbody>\n",
       "</table>\n",
       "</div>"
      ],
      "text/plain": [
       "     forecast_date  version  scenario_id       date planning_shop_cluster  \\\n",
       "4368    2024-06-04        1            0 2024-05-27                    GR   \n",
       "4369    2024-06-04        1            0 2024-05-27                    GR   \n",
       "4370    2024-06-04        1            0 2024-05-27                    GR   \n",
       "4371    2024-06-04        1            0 2024-05-27                    GR   \n",
       "4372    2024-06-04        1            0 2024-05-28                    GR   \n",
       "4373    2024-06-04        1            0 2024-05-28                    GR   \n",
       "4374    2024-06-04        1            0 2024-05-28                    GR   \n",
       "4375    2024-06-04        1            0 2024-05-28                    GR   \n",
       "4376    2024-06-04        1            0 2024-05-29                    GR   \n",
       "4377    2024-06-04        1            0 2024-05-29                    GR   \n",
       "\n",
       "      shipping_wh  sales_forecast_items  \n",
       "4368            3                     0  \n",
       "4369            2                   421  \n",
       "4370            4                     0  \n",
       "4371            1                     0  \n",
       "4372            3                     0  \n",
       "4373            2                   458  \n",
       "4374            1                     0  \n",
       "4375            4                     0  \n",
       "4376            4                     0  \n",
       "4377            1                     0  "
      ]
     },
     "execution_count": 169,
     "metadata": {},
     "output_type": "execute_result"
    }
   ],
   "source": [
    "b2c_sales_df[b2c_sales_df['planning_shop_cluster']=='GR'].head(10)"
   ]
  },
  {
   "cell_type": "markdown",
   "metadata": {},
   "source": [
    "Upon manual inspection I found that the shipping warehouse is one or more than one for each country, for which there is non-zero value in sales_forecast_items column."
   ]
  },
  {
   "cell_type": "markdown",
   "metadata": {},
   "source": [
    "### SCD Items Sales Forecast"
   ]
  },
  {
   "cell_type": "code",
   "execution_count": 170,
   "metadata": {},
   "outputs": [
    {
     "name": "stdout",
     "output_type": "stream",
     "text": [
      "(42224, 8)\n"
     ]
    },
    {
     "data": {
      "text/html": [
       "<div>\n",
       "<style scoped>\n",
       "    .dataframe tbody tr th:only-of-type {\n",
       "        vertical-align: middle;\n",
       "    }\n",
       "\n",
       "    .dataframe tbody tr th {\n",
       "        vertical-align: top;\n",
       "    }\n",
       "\n",
       "    .dataframe thead th {\n",
       "        text-align: right;\n",
       "    }\n",
       "</style>\n",
       "<table border=\"1\" class=\"dataframe\">\n",
       "  <thead>\n",
       "    <tr style=\"text-align: right;\">\n",
       "      <th></th>\n",
       "      <th>forecast_date</th>\n",
       "      <th>version</th>\n",
       "      <th>scenario_id</th>\n",
       "      <th>date</th>\n",
       "      <th>planning_shop_cluster</th>\n",
       "      <th>shipping_wh</th>\n",
       "      <th>picking_wh</th>\n",
       "      <th>shipment_cd</th>\n",
       "    </tr>\n",
       "  </thead>\n",
       "  <tbody>\n",
       "    <tr>\n",
       "      <th>0</th>\n",
       "      <td>2024-06-04</td>\n",
       "      <td>1</td>\n",
       "      <td>0</td>\n",
       "      <td>2024-07-22</td>\n",
       "      <td>CZ</td>\n",
       "      <td>3</td>\n",
       "      <td>3</td>\n",
       "      <td>0</td>\n",
       "    </tr>\n",
       "    <tr>\n",
       "      <th>1</th>\n",
       "      <td>2024-06-04</td>\n",
       "      <td>1</td>\n",
       "      <td>0</td>\n",
       "      <td>2024-05-31</td>\n",
       "      <td>HU</td>\n",
       "      <td>3</td>\n",
       "      <td>3</td>\n",
       "      <td>0</td>\n",
       "    </tr>\n",
       "    <tr>\n",
       "      <th>2</th>\n",
       "      <td>2024-06-04</td>\n",
       "      <td>1</td>\n",
       "      <td>0</td>\n",
       "      <td>2024-08-24</td>\n",
       "      <td>NO</td>\n",
       "      <td>3</td>\n",
       "      <td>3</td>\n",
       "      <td>0</td>\n",
       "    </tr>\n",
       "    <tr>\n",
       "      <th>3</th>\n",
       "      <td>2024-06-04</td>\n",
       "      <td>1</td>\n",
       "      <td>0</td>\n",
       "      <td>2024-07-15</td>\n",
       "      <td>FI</td>\n",
       "      <td>4</td>\n",
       "      <td>3</td>\n",
       "      <td>0</td>\n",
       "    </tr>\n",
       "    <tr>\n",
       "      <th>4</th>\n",
       "      <td>2024-06-04</td>\n",
       "      <td>1</td>\n",
       "      <td>0</td>\n",
       "      <td>2024-06-30</td>\n",
       "      <td>FR</td>\n",
       "      <td>4</td>\n",
       "      <td>3</td>\n",
       "      <td>0</td>\n",
       "    </tr>\n",
       "  </tbody>\n",
       "</table>\n",
       "</div>"
      ],
      "text/plain": [
       "  forecast_date  version  scenario_id       date planning_shop_cluster  \\\n",
       "0    2024-06-04        1            0 2024-07-22                    CZ   \n",
       "1    2024-06-04        1            0 2024-05-31                    HU   \n",
       "2    2024-06-04        1            0 2024-08-24                    NO   \n",
       "3    2024-06-04        1            0 2024-07-15                    FI   \n",
       "4    2024-06-04        1            0 2024-06-30                    FR   \n",
       "\n",
       "   shipping_wh  picking_wh  shipment_cd  \n",
       "0            3           3            0  \n",
       "1            3           3            0  \n",
       "2            3           3            0  \n",
       "3            4           3            0  \n",
       "4            4           3            0  "
      ]
     },
     "execution_count": 170,
     "metadata": {},
     "output_type": "execute_result"
    }
   ],
   "source": [
    "print(scd_sales_df.shape)\n",
    "scd_sales_df.head()"
   ]
  },
  {
   "cell_type": "code",
   "execution_count": 171,
   "metadata": {},
   "outputs": [
    {
     "data": {
      "text/plain": [
       "Index(['forecast_date', 'version', 'scenario_id', 'date',\n",
       "       'planning_shop_cluster', 'shipping_wh', 'picking_wh', 'shipment_cd'],\n",
       "      dtype='object')"
      ]
     },
     "execution_count": 171,
     "metadata": {},
     "output_type": "execute_result"
    }
   ],
   "source": [
    "scd_sales_df.columns"
   ]
  },
  {
   "cell_type": "code",
   "execution_count": 172,
   "metadata": {},
   "outputs": [
    {
     "name": "stdout",
     "output_type": "stream",
     "text": [
      "<class 'pandas.core.frame.DataFrame'>\n",
      "RangeIndex: 42224 entries, 0 to 42223\n",
      "Data columns (total 8 columns):\n",
      " #   Column                 Non-Null Count  Dtype         \n",
      "---  ------                 --------------  -----         \n",
      " 0   forecast_date          42224 non-null  datetime64[ns]\n",
      " 1   version                42224 non-null  int64         \n",
      " 2   scenario_id            42224 non-null  int64         \n",
      " 3   date                   42224 non-null  datetime64[ns]\n",
      " 4   planning_shop_cluster  42224 non-null  object        \n",
      " 5   shipping_wh            42224 non-null  int64         \n",
      " 6   picking_wh             42224 non-null  int64         \n",
      " 7   shipment_cd            42224 non-null  int64         \n",
      "dtypes: datetime64[ns](2), int64(5), object(1)\n",
      "memory usage: 2.6+ MB\n"
     ]
    }
   ],
   "source": [
    "scd_sales_df.info()"
   ]
  },
  {
   "cell_type": "code",
   "execution_count": 173,
   "metadata": {},
   "outputs": [
    {
     "data": {
      "text/html": [
       "<div>\n",
       "<style scoped>\n",
       "    .dataframe tbody tr th:only-of-type {\n",
       "        vertical-align: middle;\n",
       "    }\n",
       "\n",
       "    .dataframe tbody tr th {\n",
       "        vertical-align: top;\n",
       "    }\n",
       "\n",
       "    .dataframe thead th {\n",
       "        text-align: right;\n",
       "    }\n",
       "</style>\n",
       "<table border=\"1\" class=\"dataframe\">\n",
       "  <thead>\n",
       "    <tr style=\"text-align: right;\">\n",
       "      <th></th>\n",
       "      <th>forecast_date</th>\n",
       "      <th>version</th>\n",
       "      <th>scenario_id</th>\n",
       "      <th>date</th>\n",
       "      <th>planning_shop_cluster</th>\n",
       "      <th>shipping_wh</th>\n",
       "      <th>picking_wh</th>\n",
       "      <th>shipment_cd</th>\n",
       "    </tr>\n",
       "  </thead>\n",
       "  <tbody>\n",
       "    <tr>\n",
       "      <th>count</th>\n",
       "      <td>42224</td>\n",
       "      <td>42224.0</td>\n",
       "      <td>42224.0</td>\n",
       "      <td>42224</td>\n",
       "      <td>42224</td>\n",
       "      <td>42224.0</td>\n",
       "      <td>42224.0</td>\n",
       "      <td>42224.0</td>\n",
       "    </tr>\n",
       "    <tr>\n",
       "      <th>unique</th>\n",
       "      <td></td>\n",
       "      <td></td>\n",
       "      <td></td>\n",
       "      <td></td>\n",
       "      <td>29</td>\n",
       "      <td></td>\n",
       "      <td></td>\n",
       "      <td></td>\n",
       "    </tr>\n",
       "    <tr>\n",
       "      <th>top</th>\n",
       "      <td></td>\n",
       "      <td></td>\n",
       "      <td></td>\n",
       "      <td></td>\n",
       "      <td>CZ</td>\n",
       "      <td></td>\n",
       "      <td></td>\n",
       "      <td></td>\n",
       "    </tr>\n",
       "    <tr>\n",
       "      <th>freq</th>\n",
       "      <td></td>\n",
       "      <td></td>\n",
       "      <td></td>\n",
       "      <td></td>\n",
       "      <td>1456</td>\n",
       "      <td></td>\n",
       "      <td></td>\n",
       "      <td></td>\n",
       "    </tr>\n",
       "    <tr>\n",
       "      <th>mean</th>\n",
       "      <td>2024-06-04 00:00:00</td>\n",
       "      <td>1.0</td>\n",
       "      <td>0.0</td>\n",
       "      <td>2024-07-11 00:00:00</td>\n",
       "      <td></td>\n",
       "      <td>2.5</td>\n",
       "      <td>2.5</td>\n",
       "      <td>23.034104</td>\n",
       "    </tr>\n",
       "    <tr>\n",
       "      <th>min</th>\n",
       "      <td>2024-06-04 00:00:00</td>\n",
       "      <td>1.0</td>\n",
       "      <td>0.0</td>\n",
       "      <td>2024-05-27 00:00:00</td>\n",
       "      <td></td>\n",
       "      <td>1.0</td>\n",
       "      <td>1.0</td>\n",
       "      <td>0.0</td>\n",
       "    </tr>\n",
       "    <tr>\n",
       "      <th>25%</th>\n",
       "      <td>2024-06-04 00:00:00</td>\n",
       "      <td>1.0</td>\n",
       "      <td>0.0</td>\n",
       "      <td>2024-06-18 00:00:00</td>\n",
       "      <td></td>\n",
       "      <td>1.75</td>\n",
       "      <td>1.75</td>\n",
       "      <td>0.0</td>\n",
       "    </tr>\n",
       "    <tr>\n",
       "      <th>50%</th>\n",
       "      <td>2024-06-04 00:00:00</td>\n",
       "      <td>1.0</td>\n",
       "      <td>0.0</td>\n",
       "      <td>2024-07-11 00:00:00</td>\n",
       "      <td></td>\n",
       "      <td>2.5</td>\n",
       "      <td>2.5</td>\n",
       "      <td>0.0</td>\n",
       "    </tr>\n",
       "    <tr>\n",
       "      <th>75%</th>\n",
       "      <td>2024-06-04 00:00:00</td>\n",
       "      <td>1.0</td>\n",
       "      <td>0.0</td>\n",
       "      <td>2024-08-03 00:00:00</td>\n",
       "      <td></td>\n",
       "      <td>3.25</td>\n",
       "      <td>3.25</td>\n",
       "      <td>0.0</td>\n",
       "    </tr>\n",
       "    <tr>\n",
       "      <th>max</th>\n",
       "      <td>2024-06-04 00:00:00</td>\n",
       "      <td>1.0</td>\n",
       "      <td>0.0</td>\n",
       "      <td>2024-08-25 00:00:00</td>\n",
       "      <td></td>\n",
       "      <td>4.0</td>\n",
       "      <td>4.0</td>\n",
       "      <td>2942.0</td>\n",
       "    </tr>\n",
       "    <tr>\n",
       "      <th>std</th>\n",
       "      <td></td>\n",
       "      <td>0.0</td>\n",
       "      <td>0.0</td>\n",
       "      <td></td>\n",
       "      <td></td>\n",
       "      <td>1.118047</td>\n",
       "      <td>1.118047</td>\n",
       "      <td>121.563732</td>\n",
       "    </tr>\n",
       "  </tbody>\n",
       "</table>\n",
       "</div>"
      ],
      "text/plain": [
       "              forecast_date  version scenario_id                 date  \\\n",
       "count                 42224  42224.0     42224.0                42224   \n",
       "unique                                                                  \n",
       "top                                                                     \n",
       "freq                                                                    \n",
       "mean    2024-06-04 00:00:00      1.0         0.0  2024-07-11 00:00:00   \n",
       "min     2024-06-04 00:00:00      1.0         0.0  2024-05-27 00:00:00   \n",
       "25%     2024-06-04 00:00:00      1.0         0.0  2024-06-18 00:00:00   \n",
       "50%     2024-06-04 00:00:00      1.0         0.0  2024-07-11 00:00:00   \n",
       "75%     2024-06-04 00:00:00      1.0         0.0  2024-08-03 00:00:00   \n",
       "max     2024-06-04 00:00:00      1.0         0.0  2024-08-25 00:00:00   \n",
       "std                              0.0         0.0                        \n",
       "\n",
       "       planning_shop_cluster shipping_wh picking_wh shipment_cd  \n",
       "count                  42224     42224.0    42224.0     42224.0  \n",
       "unique                    29                                     \n",
       "top                       CZ                                     \n",
       "freq                    1456                                     \n",
       "mean                                 2.5        2.5   23.034104  \n",
       "min                                  1.0        1.0         0.0  \n",
       "25%                                 1.75       1.75         0.0  \n",
       "50%                                  2.5        2.5         0.0  \n",
       "75%                                 3.25       3.25         0.0  \n",
       "max                                  4.0        4.0      2942.0  \n",
       "std                             1.118047   1.118047  121.563732  "
      ]
     },
     "execution_count": 173,
     "metadata": {},
     "output_type": "execute_result"
    }
   ],
   "source": [
    "scd_sales_df.describe(include='all').fillna('')"
   ]
  },
  {
   "cell_type": "code",
   "execution_count": 174,
   "metadata": {},
   "outputs": [
    {
     "data": {
      "text/plain": [
       "<DatetimeArray>\n",
       "['2024-06-04 00:00:00']\n",
       "Length: 1, dtype: datetime64[ns]"
      ]
     },
     "execution_count": 174,
     "metadata": {},
     "output_type": "execute_result"
    }
   ],
   "source": [
    "scd_sales_df['forecast_date'].unique()"
   ]
  },
  {
   "cell_type": "code",
   "execution_count": 175,
   "metadata": {},
   "outputs": [
    {
     "data": {
      "text/plain": [
       "(array([1]), array([0]))"
      ]
     },
     "execution_count": 175,
     "metadata": {},
     "output_type": "execute_result"
    }
   ],
   "source": [
    "scd_sales_df['version'].unique(), scd_sales_df['scenario_id'].unique()"
   ]
  },
  {
   "cell_type": "code",
   "execution_count": 176,
   "metadata": {},
   "outputs": [
    {
     "name": "stdout",
     "output_type": "stream",
     "text": [
      "2024-05-27 00:00:00 2024-08-25 00:00:00\n"
     ]
    },
    {
     "data": {
      "text/plain": [
       "Timedelta('90 days 00:00:00')"
      ]
     },
     "execution_count": 176,
     "metadata": {},
     "output_type": "execute_result"
    }
   ],
   "source": [
    "print(scd_sales_df.date.min(), scd_sales_df.date.max()), \n",
    "scd_sales_df.date.max()-scd_sales_df.date.min()"
   ]
  },
  {
   "cell_type": "code",
   "execution_count": 177,
   "metadata": {},
   "outputs": [
    {
     "name": "stdout",
     "output_type": "stream",
     "text": [
      "29\n"
     ]
    },
    {
     "data": {
      "text/plain": [
       "array(['CZ', 'HU', 'NO', 'FI', 'FR', 'IT', 'LT', 'LV', 'SK', 'CH', 'ZZ',\n",
       "       'GR', 'CY', 'LU', 'PT', 'SE', 'HR', 'NL', 'DK', 'RO', 'DE', 'SI',\n",
       "       'ES', 'BG', 'EE', 'BE', 'PL', 'IE', 'AT'], dtype=object)"
      ]
     },
     "execution_count": 177,
     "metadata": {},
     "output_type": "execute_result"
    }
   ],
   "source": [
    "print(len(scd_sales_df.planning_shop_cluster.unique()))\n",
    "scd_sales_df.planning_shop_cluster.unique()"
   ]
  },
  {
   "cell_type": "code",
   "execution_count": 178,
   "metadata": {},
   "outputs": [
    {
     "data": {
      "text/plain": [
       "(array([3, 4, 1, 2]), array([3, 4, 1, 2]))"
      ]
     },
     "execution_count": 178,
     "metadata": {},
     "output_type": "execute_result"
    }
   ],
   "source": [
    "scd_sales_df.shipping_wh.unique(), scd_sales_df.picking_wh.unique()"
   ]
  },
  {
   "cell_type": "code",
   "execution_count": 179,
   "metadata": {},
   "outputs": [
    {
     "name": "stdout",
     "output_type": "stream",
     "text": [
      "0 2942\n"
     ]
    }
   ],
   "source": [
    "print(scd_sales_df.shipment_cd.min(),scd_sales_df.shipment_cd.max())"
   ]
  },
  {
   "cell_type": "code",
   "execution_count": 180,
   "metadata": {},
   "outputs": [
    {
     "data": {
      "text/html": [
       "<div>\n",
       "<style scoped>\n",
       "    .dataframe tbody tr th:only-of-type {\n",
       "        vertical-align: middle;\n",
       "    }\n",
       "\n",
       "    .dataframe tbody tr th {\n",
       "        vertical-align: top;\n",
       "    }\n",
       "\n",
       "    .dataframe thead th {\n",
       "        text-align: right;\n",
       "    }\n",
       "</style>\n",
       "<table border=\"1\" class=\"dataframe\">\n",
       "  <thead>\n",
       "    <tr style=\"text-align: right;\">\n",
       "      <th></th>\n",
       "      <th>forecast_date</th>\n",
       "      <th>version</th>\n",
       "      <th>scenario_id</th>\n",
       "      <th>date</th>\n",
       "      <th>planning_shop_cluster</th>\n",
       "      <th>shipping_wh</th>\n",
       "      <th>picking_wh</th>\n",
       "      <th>shipment_cd</th>\n",
       "    </tr>\n",
       "  </thead>\n",
       "  <tbody>\n",
       "  </tbody>\n",
       "</table>\n",
       "</div>"
      ],
      "text/plain": [
       "Empty DataFrame\n",
       "Columns: [forecast_date, version, scenario_id, date, planning_shop_cluster, shipping_wh, picking_wh, shipment_cd]\n",
       "Index: []"
      ]
     },
     "execution_count": 180,
     "metadata": {},
     "output_type": "execute_result"
    }
   ],
   "source": [
    "# Sanity check. For scd there should not be any items forecasted where shipping and picking warehouses are the same.\n",
    "scd_sales_df[(scd_sales_df['picking_wh']==scd_sales_df['shipping_wh']) & scd_sales_df['shipment_cd']!=0]"
   ]
  },
  {
   "cell_type": "markdown",
   "metadata": {},
   "source": [
    "### ICD items sales forecast"
   ]
  },
  {
   "cell_type": "code",
   "execution_count": 181,
   "metadata": {},
   "outputs": [
    {
     "name": "stdout",
     "output_type": "stream",
     "text": [
      "(42224, 8)\n"
     ]
    },
    {
     "data": {
      "text/html": [
       "<div>\n",
       "<style scoped>\n",
       "    .dataframe tbody tr th:only-of-type {\n",
       "        vertical-align: middle;\n",
       "    }\n",
       "\n",
       "    .dataframe tbody tr th {\n",
       "        vertical-align: top;\n",
       "    }\n",
       "\n",
       "    .dataframe thead th {\n",
       "        text-align: right;\n",
       "    }\n",
       "</style>\n",
       "<table border=\"1\" class=\"dataframe\">\n",
       "  <thead>\n",
       "    <tr style=\"text-align: right;\">\n",
       "      <th></th>\n",
       "      <th>forecast_date</th>\n",
       "      <th>version</th>\n",
       "      <th>scenario_id</th>\n",
       "      <th>date</th>\n",
       "      <th>planning_shop_cluster</th>\n",
       "      <th>shipping_wh</th>\n",
       "      <th>picking_wh</th>\n",
       "      <th>item_cd</th>\n",
       "    </tr>\n",
       "  </thead>\n",
       "  <tbody>\n",
       "    <tr>\n",
       "      <th>0</th>\n",
       "      <td>2024-06-04</td>\n",
       "      <td>1</td>\n",
       "      <td>0</td>\n",
       "      <td>2024-07-22</td>\n",
       "      <td>CZ</td>\n",
       "      <td>3</td>\n",
       "      <td>3</td>\n",
       "      <td>0</td>\n",
       "    </tr>\n",
       "    <tr>\n",
       "      <th>1</th>\n",
       "      <td>2024-06-04</td>\n",
       "      <td>1</td>\n",
       "      <td>0</td>\n",
       "      <td>2024-05-31</td>\n",
       "      <td>HU</td>\n",
       "      <td>3</td>\n",
       "      <td>3</td>\n",
       "      <td>0</td>\n",
       "    </tr>\n",
       "    <tr>\n",
       "      <th>2</th>\n",
       "      <td>2024-06-04</td>\n",
       "      <td>1</td>\n",
       "      <td>0</td>\n",
       "      <td>2024-08-24</td>\n",
       "      <td>NO</td>\n",
       "      <td>3</td>\n",
       "      <td>3</td>\n",
       "      <td>0</td>\n",
       "    </tr>\n",
       "    <tr>\n",
       "      <th>3</th>\n",
       "      <td>2024-06-04</td>\n",
       "      <td>1</td>\n",
       "      <td>0</td>\n",
       "      <td>2024-07-15</td>\n",
       "      <td>FI</td>\n",
       "      <td>4</td>\n",
       "      <td>3</td>\n",
       "      <td>0</td>\n",
       "    </tr>\n",
       "    <tr>\n",
       "      <th>4</th>\n",
       "      <td>2024-06-04</td>\n",
       "      <td>1</td>\n",
       "      <td>0</td>\n",
       "      <td>2024-06-30</td>\n",
       "      <td>FR</td>\n",
       "      <td>4</td>\n",
       "      <td>3</td>\n",
       "      <td>0</td>\n",
       "    </tr>\n",
       "  </tbody>\n",
       "</table>\n",
       "</div>"
      ],
      "text/plain": [
       "  forecast_date  version  scenario_id       date planning_shop_cluster  \\\n",
       "0    2024-06-04        1            0 2024-07-22                    CZ   \n",
       "1    2024-06-04        1            0 2024-05-31                    HU   \n",
       "2    2024-06-04        1            0 2024-08-24                    NO   \n",
       "3    2024-06-04        1            0 2024-07-15                    FI   \n",
       "4    2024-06-04        1            0 2024-06-30                    FR   \n",
       "\n",
       "   shipping_wh  picking_wh  item_cd  \n",
       "0            3           3        0  \n",
       "1            3           3        0  \n",
       "2            3           3        0  \n",
       "3            4           3        0  \n",
       "4            4           3        0  "
      ]
     },
     "execution_count": 181,
     "metadata": {},
     "output_type": "execute_result"
    }
   ],
   "source": [
    "print(icd_sales_df.shape)\n",
    "icd_sales_df.head()"
   ]
  },
  {
   "cell_type": "code",
   "execution_count": 182,
   "metadata": {},
   "outputs": [
    {
     "data": {
      "text/plain": [
       "Index(['forecast_date', 'version', 'scenario_id', 'date',\n",
       "       'planning_shop_cluster', 'shipping_wh', 'picking_wh', 'item_cd'],\n",
       "      dtype='object')"
      ]
     },
     "execution_count": 182,
     "metadata": {},
     "output_type": "execute_result"
    }
   ],
   "source": [
    "icd_sales_df.columns"
   ]
  },
  {
   "cell_type": "markdown",
   "metadata": {},
   "source": [
    "The columns are similar to those from b2c sales df except for 2 columns -> picking_wh and item_cd"
   ]
  },
  {
   "cell_type": "code",
   "execution_count": 183,
   "metadata": {},
   "outputs": [
    {
     "name": "stdout",
     "output_type": "stream",
     "text": [
      "<class 'pandas.core.frame.DataFrame'>\n",
      "RangeIndex: 42224 entries, 0 to 42223\n",
      "Data columns (total 8 columns):\n",
      " #   Column                 Non-Null Count  Dtype         \n",
      "---  ------                 --------------  -----         \n",
      " 0   forecast_date          42224 non-null  datetime64[ns]\n",
      " 1   version                42224 non-null  int64         \n",
      " 2   scenario_id            42224 non-null  int64         \n",
      " 3   date                   42224 non-null  datetime64[ns]\n",
      " 4   planning_shop_cluster  42224 non-null  object        \n",
      " 5   shipping_wh            42224 non-null  int64         \n",
      " 6   picking_wh             42224 non-null  int64         \n",
      " 7   item_cd                42224 non-null  int64         \n",
      "dtypes: datetime64[ns](2), int64(5), object(1)\n",
      "memory usage: 2.6+ MB\n"
     ]
    }
   ],
   "source": [
    "icd_sales_df.info()"
   ]
  },
  {
   "cell_type": "code",
   "execution_count": 184,
   "metadata": {},
   "outputs": [
    {
     "data": {
      "text/html": [
       "<div>\n",
       "<style scoped>\n",
       "    .dataframe tbody tr th:only-of-type {\n",
       "        vertical-align: middle;\n",
       "    }\n",
       "\n",
       "    .dataframe tbody tr th {\n",
       "        vertical-align: top;\n",
       "    }\n",
       "\n",
       "    .dataframe thead th {\n",
       "        text-align: right;\n",
       "    }\n",
       "</style>\n",
       "<table border=\"1\" class=\"dataframe\">\n",
       "  <thead>\n",
       "    <tr style=\"text-align: right;\">\n",
       "      <th></th>\n",
       "      <th>forecast_date</th>\n",
       "      <th>version</th>\n",
       "      <th>scenario_id</th>\n",
       "      <th>date</th>\n",
       "      <th>planning_shop_cluster</th>\n",
       "      <th>shipping_wh</th>\n",
       "      <th>picking_wh</th>\n",
       "      <th>item_cd</th>\n",
       "    </tr>\n",
       "  </thead>\n",
       "  <tbody>\n",
       "    <tr>\n",
       "      <th>count</th>\n",
       "      <td>42224</td>\n",
       "      <td>42224.0</td>\n",
       "      <td>42224.0</td>\n",
       "      <td>42224</td>\n",
       "      <td>42224</td>\n",
       "      <td>42224.0</td>\n",
       "      <td>42224.0</td>\n",
       "      <td>42224.0</td>\n",
       "    </tr>\n",
       "    <tr>\n",
       "      <th>unique</th>\n",
       "      <td></td>\n",
       "      <td></td>\n",
       "      <td></td>\n",
       "      <td></td>\n",
       "      <td>29</td>\n",
       "      <td></td>\n",
       "      <td></td>\n",
       "      <td></td>\n",
       "    </tr>\n",
       "    <tr>\n",
       "      <th>top</th>\n",
       "      <td></td>\n",
       "      <td></td>\n",
       "      <td></td>\n",
       "      <td></td>\n",
       "      <td>CZ</td>\n",
       "      <td></td>\n",
       "      <td></td>\n",
       "      <td></td>\n",
       "    </tr>\n",
       "    <tr>\n",
       "      <th>freq</th>\n",
       "      <td></td>\n",
       "      <td></td>\n",
       "      <td></td>\n",
       "      <td></td>\n",
       "      <td>1456</td>\n",
       "      <td></td>\n",
       "      <td></td>\n",
       "      <td></td>\n",
       "    </tr>\n",
       "    <tr>\n",
       "      <th>mean</th>\n",
       "      <td>2024-06-04 00:00:00</td>\n",
       "      <td>1.0</td>\n",
       "      <td>0.0</td>\n",
       "      <td>2024-07-11 00:00:00</td>\n",
       "      <td></td>\n",
       "      <td>2.5</td>\n",
       "      <td>2.5</td>\n",
       "      <td>32.137623</td>\n",
       "    </tr>\n",
       "    <tr>\n",
       "      <th>min</th>\n",
       "      <td>2024-06-04 00:00:00</td>\n",
       "      <td>1.0</td>\n",
       "      <td>0.0</td>\n",
       "      <td>2024-05-27 00:00:00</td>\n",
       "      <td></td>\n",
       "      <td>1.0</td>\n",
       "      <td>1.0</td>\n",
       "      <td>0.0</td>\n",
       "    </tr>\n",
       "    <tr>\n",
       "      <th>25%</th>\n",
       "      <td>2024-06-04 00:00:00</td>\n",
       "      <td>1.0</td>\n",
       "      <td>0.0</td>\n",
       "      <td>2024-06-18 00:00:00</td>\n",
       "      <td></td>\n",
       "      <td>1.75</td>\n",
       "      <td>1.75</td>\n",
       "      <td>0.0</td>\n",
       "    </tr>\n",
       "    <tr>\n",
       "      <th>50%</th>\n",
       "      <td>2024-06-04 00:00:00</td>\n",
       "      <td>1.0</td>\n",
       "      <td>0.0</td>\n",
       "      <td>2024-07-11 00:00:00</td>\n",
       "      <td></td>\n",
       "      <td>2.5</td>\n",
       "      <td>2.5</td>\n",
       "      <td>0.0</td>\n",
       "    </tr>\n",
       "    <tr>\n",
       "      <th>75%</th>\n",
       "      <td>2024-06-04 00:00:00</td>\n",
       "      <td>1.0</td>\n",
       "      <td>0.0</td>\n",
       "      <td>2024-08-03 00:00:00</td>\n",
       "      <td></td>\n",
       "      <td>3.25</td>\n",
       "      <td>3.25</td>\n",
       "      <td>0.0</td>\n",
       "    </tr>\n",
       "    <tr>\n",
       "      <th>max</th>\n",
       "      <td>2024-06-04 00:00:00</td>\n",
       "      <td>1.0</td>\n",
       "      <td>0.0</td>\n",
       "      <td>2024-08-25 00:00:00</td>\n",
       "      <td></td>\n",
       "      <td>4.0</td>\n",
       "      <td>4.0</td>\n",
       "      <td>5277.0</td>\n",
       "    </tr>\n",
       "    <tr>\n",
       "      <th>std</th>\n",
       "      <td></td>\n",
       "      <td>0.0</td>\n",
       "      <td>0.0</td>\n",
       "      <td></td>\n",
       "      <td></td>\n",
       "      <td>1.118047</td>\n",
       "      <td>1.118047</td>\n",
       "      <td>190.390073</td>\n",
       "    </tr>\n",
       "  </tbody>\n",
       "</table>\n",
       "</div>"
      ],
      "text/plain": [
       "              forecast_date  version scenario_id                 date  \\\n",
       "count                 42224  42224.0     42224.0                42224   \n",
       "unique                                                                  \n",
       "top                                                                     \n",
       "freq                                                                    \n",
       "mean    2024-06-04 00:00:00      1.0         0.0  2024-07-11 00:00:00   \n",
       "min     2024-06-04 00:00:00      1.0         0.0  2024-05-27 00:00:00   \n",
       "25%     2024-06-04 00:00:00      1.0         0.0  2024-06-18 00:00:00   \n",
       "50%     2024-06-04 00:00:00      1.0         0.0  2024-07-11 00:00:00   \n",
       "75%     2024-06-04 00:00:00      1.0         0.0  2024-08-03 00:00:00   \n",
       "max     2024-06-04 00:00:00      1.0         0.0  2024-08-25 00:00:00   \n",
       "std                              0.0         0.0                        \n",
       "\n",
       "       planning_shop_cluster shipping_wh picking_wh     item_cd  \n",
       "count                  42224     42224.0    42224.0     42224.0  \n",
       "unique                    29                                     \n",
       "top                       CZ                                     \n",
       "freq                    1456                                     \n",
       "mean                                 2.5        2.5   32.137623  \n",
       "min                                  1.0        1.0         0.0  \n",
       "25%                                 1.75       1.75         0.0  \n",
       "50%                                  2.5        2.5         0.0  \n",
       "75%                                 3.25       3.25         0.0  \n",
       "max                                  4.0        4.0      5277.0  \n",
       "std                             1.118047   1.118047  190.390073  "
      ]
     },
     "execution_count": 184,
     "metadata": {},
     "output_type": "execute_result"
    }
   ],
   "source": [
    "icd_sales_df.describe(include='all').fillna('')"
   ]
  },
  {
   "cell_type": "code",
   "execution_count": 185,
   "metadata": {},
   "outputs": [
    {
     "data": {
      "text/plain": [
       "forecast_date            0\n",
       "version                  0\n",
       "scenario_id              0\n",
       "date                     0\n",
       "planning_shop_cluster    0\n",
       "shipping_wh              0\n",
       "picking_wh               0\n",
       "item_cd                  0\n",
       "dtype: int64"
      ]
     },
     "execution_count": 185,
     "metadata": {},
     "output_type": "execute_result"
    }
   ],
   "source": [
    "icd_sales_df.isnull().sum()"
   ]
  },
  {
   "cell_type": "code",
   "execution_count": 186,
   "metadata": {},
   "outputs": [
    {
     "data": {
      "text/plain": [
       "(Timestamp('2024-05-27 00:00:00'), Timestamp('2024-08-25 00:00:00'))"
      ]
     },
     "execution_count": 186,
     "metadata": {},
     "output_type": "execute_result"
    }
   ],
   "source": [
    "icd_sales_df['date'].min(), icd_sales_df['date'].max()"
   ]
  },
  {
   "cell_type": "code",
   "execution_count": 187,
   "metadata": {},
   "outputs": [
    {
     "data": {
      "text/plain": [
       "Timedelta('90 days 00:00:00')"
      ]
     },
     "execution_count": 187,
     "metadata": {},
     "output_type": "execute_result"
    }
   ],
   "source": [
    "icd_sales_df['date'].max()-icd_sales_df['date'].min()"
   ]
  },
  {
   "cell_type": "markdown",
   "metadata": {},
   "source": [
    "The date range is same as b2c sales df."
   ]
  },
  {
   "cell_type": "code",
   "execution_count": 188,
   "metadata": {},
   "outputs": [
    {
     "data": {
      "text/plain": [
       "(array([1]), array([0]))"
      ]
     },
     "execution_count": 188,
     "metadata": {},
     "output_type": "execute_result"
    }
   ],
   "source": [
    "icd_sales_df['version'].unique(), icd_sales_df['scenario_id'].unique()"
   ]
  },
  {
   "cell_type": "markdown",
   "metadata": {},
   "source": [
    "The version column and scenario column also are same as b2c sales df"
   ]
  },
  {
   "cell_type": "code",
   "execution_count": 189,
   "metadata": {},
   "outputs": [
    {
     "name": "stdout",
     "output_type": "stream",
     "text": [
      "29\n"
     ]
    },
    {
     "data": {
      "text/plain": [
       "array(['CZ', 'HU', 'NO', 'FI', 'FR', 'IT', 'LT', 'LV', 'SK', 'CH', 'ZZ',\n",
       "       'GR', 'CY', 'LU', 'PT', 'SE', 'HR', 'NL', 'DK', 'RO', 'DE', 'SI',\n",
       "       'ES', 'BG', 'EE', 'BE', 'PL', 'IE', 'AT'], dtype=object)"
      ]
     },
     "execution_count": 189,
     "metadata": {},
     "output_type": "execute_result"
    }
   ],
   "source": [
    "print(len(icd_sales_df['planning_shop_cluster'].unique()))\n",
    "icd_sales_df['planning_shop_cluster'].unique()"
   ]
  },
  {
   "cell_type": "code",
   "execution_count": 190,
   "metadata": {},
   "outputs": [
    {
     "data": {
      "text/plain": [
       "planning_shop_cluster\n",
       "CZ    1456\n",
       "SE    1456\n",
       "IE    1456\n",
       "PL    1456\n",
       "BE    1456\n",
       "EE    1456\n",
       "BG    1456\n",
       "ES    1456\n",
       "SI    1456\n",
       "DE    1456\n",
       "RO    1456\n",
       "DK    1456\n",
       "NL    1456\n",
       "HR    1456\n",
       "PT    1456\n",
       "HU    1456\n",
       "LU    1456\n",
       "CY    1456\n",
       "GR    1456\n",
       "ZZ    1456\n",
       "CH    1456\n",
       "SK    1456\n",
       "LV    1456\n",
       "LT    1456\n",
       "IT    1456\n",
       "FR    1456\n",
       "FI    1456\n",
       "NO    1456\n",
       "AT    1456\n",
       "Name: count, dtype: int64"
      ]
     },
     "execution_count": 190,
     "metadata": {},
     "output_type": "execute_result"
    }
   ],
   "source": [
    "icd_sales_df['planning_shop_cluster'].value_counts()"
   ]
  },
  {
   "cell_type": "markdown",
   "metadata": {},
   "source": [
    "There are same number of countries (29) but each with 1456 values."
   ]
  },
  {
   "cell_type": "code",
   "execution_count": 191,
   "metadata": {},
   "outputs": [
    {
     "data": {
      "text/plain": [
       "array([3, 4, 1, 2])"
      ]
     },
     "execution_count": 191,
     "metadata": {},
     "output_type": "execute_result"
    }
   ],
   "source": [
    "icd_sales_df['shipping_wh'].unique()"
   ]
  },
  {
   "cell_type": "code",
   "execution_count": 192,
   "metadata": {},
   "outputs": [
    {
     "data": {
      "text/plain": [
       "array([3, 4, 1, 2])"
      ]
     },
     "execution_count": 192,
     "metadata": {},
     "output_type": "execute_result"
    }
   ],
   "source": [
    "icd_sales_df['picking_wh'].unique()"
   ]
  },
  {
   "cell_type": "markdown",
   "metadata": {},
   "source": [
    "In shipping wh and picking_wh there are 4 unique values -> 1,2,3,4"
   ]
  },
  {
   "cell_type": "code",
   "execution_count": 193,
   "metadata": {},
   "outputs": [
    {
     "data": {
      "text/html": [
       "<div>\n",
       "<style scoped>\n",
       "    .dataframe tbody tr th:only-of-type {\n",
       "        vertical-align: middle;\n",
       "    }\n",
       "\n",
       "    .dataframe tbody tr th {\n",
       "        vertical-align: top;\n",
       "    }\n",
       "\n",
       "    .dataframe thead th {\n",
       "        text-align: right;\n",
       "    }\n",
       "</style>\n",
       "<table border=\"1\" class=\"dataframe\">\n",
       "  <thead>\n",
       "    <tr style=\"text-align: right;\">\n",
       "      <th></th>\n",
       "      <th>forecast_date</th>\n",
       "      <th>version</th>\n",
       "      <th>scenario_id</th>\n",
       "      <th>date</th>\n",
       "      <th>planning_shop_cluster</th>\n",
       "      <th>shipping_wh</th>\n",
       "      <th>picking_wh</th>\n",
       "      <th>item_cd</th>\n",
       "    </tr>\n",
       "  </thead>\n",
       "  <tbody>\n",
       "  </tbody>\n",
       "</table>\n",
       "</div>"
      ],
      "text/plain": [
       "Empty DataFrame\n",
       "Columns: [forecast_date, version, scenario_id, date, planning_shop_cluster, shipping_wh, picking_wh, item_cd]\n",
       "Index: []"
      ]
     },
     "execution_count": 193,
     "metadata": {},
     "output_type": "execute_result"
    }
   ],
   "source": [
    "icd_sales_df[(icd_sales_df['picking_wh']==icd_sales_df['shipping_wh']) & icd_sales_df['item_cd']!=0]"
   ]
  },
  {
   "cell_type": "markdown",
   "metadata": {},
   "source": [
    "This is for the sanity check that, when picking and shipping warehouses are the same , no cross docking at required."
   ]
  },
  {
   "cell_type": "code",
   "execution_count": 195,
   "metadata": {},
   "outputs": [
    {
     "data": {
      "text/html": [
       "<div>\n",
       "<style scoped>\n",
       "    .dataframe tbody tr th:only-of-type {\n",
       "        vertical-align: middle;\n",
       "    }\n",
       "\n",
       "    .dataframe tbody tr th {\n",
       "        vertical-align: top;\n",
       "    }\n",
       "\n",
       "    .dataframe thead th {\n",
       "        text-align: right;\n",
       "    }\n",
       "</style>\n",
       "<table border=\"1\" class=\"dataframe\">\n",
       "  <thead>\n",
       "    <tr style=\"text-align: right;\">\n",
       "      <th></th>\n",
       "      <th>forecast_date</th>\n",
       "      <th>version</th>\n",
       "      <th>scenario_id</th>\n",
       "      <th>date</th>\n",
       "      <th>planning_shop_cluster</th>\n",
       "      <th>shipping_wh</th>\n",
       "      <th>picking_wh</th>\n",
       "      <th>item_cd</th>\n",
       "    </tr>\n",
       "  </thead>\n",
       "  <tbody>\n",
       "    <tr>\n",
       "      <th>10</th>\n",
       "      <td>2024-06-04</td>\n",
       "      <td>1</td>\n",
       "      <td>0</td>\n",
       "      <td>2024-08-18</td>\n",
       "      <td>CH</td>\n",
       "      <td>1</td>\n",
       "      <td>3</td>\n",
       "      <td>279</td>\n",
       "    </tr>\n",
       "    <tr>\n",
       "      <th>13</th>\n",
       "      <td>2024-06-04</td>\n",
       "      <td>1</td>\n",
       "      <td>0</td>\n",
       "      <td>2024-06-07</td>\n",
       "      <td>GR</td>\n",
       "      <td>2</td>\n",
       "      <td>3</td>\n",
       "      <td>81</td>\n",
       "    </tr>\n",
       "    <tr>\n",
       "      <th>36</th>\n",
       "      <td>2024-06-04</td>\n",
       "      <td>1</td>\n",
       "      <td>0</td>\n",
       "      <td>2024-07-10</td>\n",
       "      <td>SE</td>\n",
       "      <td>1</td>\n",
       "      <td>2</td>\n",
       "      <td>11</td>\n",
       "    </tr>\n",
       "    <tr>\n",
       "      <th>49</th>\n",
       "      <td>2024-06-04</td>\n",
       "      <td>1</td>\n",
       "      <td>0</td>\n",
       "      <td>2024-08-24</td>\n",
       "      <td>GR</td>\n",
       "      <td>2</td>\n",
       "      <td>3</td>\n",
       "      <td>38</td>\n",
       "    </tr>\n",
       "    <tr>\n",
       "      <th>50</th>\n",
       "      <td>2024-06-04</td>\n",
       "      <td>1</td>\n",
       "      <td>0</td>\n",
       "      <td>2024-07-23</td>\n",
       "      <td>SK</td>\n",
       "      <td>2</td>\n",
       "      <td>3</td>\n",
       "      <td>110</td>\n",
       "    </tr>\n",
       "  </tbody>\n",
       "</table>\n",
       "</div>"
      ],
      "text/plain": [
       "   forecast_date  version  scenario_id       date planning_shop_cluster  \\\n",
       "10    2024-06-04        1            0 2024-08-18                    CH   \n",
       "13    2024-06-04        1            0 2024-06-07                    GR   \n",
       "36    2024-06-04        1            0 2024-07-10                    SE   \n",
       "49    2024-06-04        1            0 2024-08-24                    GR   \n",
       "50    2024-06-04        1            0 2024-07-23                    SK   \n",
       "\n",
       "    shipping_wh  picking_wh  item_cd  \n",
       "10            1           3      279  \n",
       "13            2           3       81  \n",
       "36            1           2       11  \n",
       "49            2           3       38  \n",
       "50            2           3      110  "
      ]
     },
     "execution_count": 195,
     "metadata": {},
     "output_type": "execute_result"
    }
   ],
   "source": [
    "filtered_df = icd_sales_df[(icd_sales_df['shipping_wh'] != icd_sales_df['picking_wh']) & (icd_sales_df['item_cd'] != 0)]\n",
    "filtered_df.head(5)"
   ]
  },
  {
   "cell_type": "markdown",
   "metadata": {},
   "source": [
    "This gives a snippet of data in which pure cross-docking is taking place."
   ]
  },
  {
   "cell_type": "markdown",
   "metadata": {},
   "source": [
    "### Item cross-docking shift"
   ]
  },
  {
   "cell_type": "markdown",
   "metadata": {},
   "source": [
    "This dataset gives information about the delay in export after picking and what proportion of items are exported after the delay."
   ]
  },
  {
   "cell_type": "code",
   "execution_count": 196,
   "metadata": {},
   "outputs": [
    {
     "name": "stdout",
     "output_type": "stream",
     "text": [
      "(5544, 5)\n"
     ]
    },
    {
     "data": {
      "text/html": [
       "<div>\n",
       "<style scoped>\n",
       "    .dataframe tbody tr th:only-of-type {\n",
       "        vertical-align: middle;\n",
       "    }\n",
       "\n",
       "    .dataframe tbody tr th {\n",
       "        vertical-align: top;\n",
       "    }\n",
       "\n",
       "    .dataframe thead th {\n",
       "        text-align: right;\n",
       "    }\n",
       "</style>\n",
       "<table border=\"1\" class=\"dataframe\">\n",
       "  <thead>\n",
       "    <tr style=\"text-align: right;\">\n",
       "      <th></th>\n",
       "      <th>exported_at_picking_warehouse</th>\n",
       "      <th>picking_warehouse_id</th>\n",
       "      <th>shipping_warehouse_id</th>\n",
       "      <th>day</th>\n",
       "      <th>share</th>\n",
       "    </tr>\n",
       "  </thead>\n",
       "  <tbody>\n",
       "    <tr>\n",
       "      <th>0</th>\n",
       "      <td>2024-05-27</td>\n",
       "      <td>1</td>\n",
       "      <td>2</td>\n",
       "      <td>0</td>\n",
       "      <td>0.02</td>\n",
       "    </tr>\n",
       "    <tr>\n",
       "      <th>1</th>\n",
       "      <td>2024-05-27</td>\n",
       "      <td>1</td>\n",
       "      <td>2</td>\n",
       "      <td>1</td>\n",
       "      <td>0.23</td>\n",
       "    </tr>\n",
       "    <tr>\n",
       "      <th>2</th>\n",
       "      <td>2024-05-27</td>\n",
       "      <td>1</td>\n",
       "      <td>2</td>\n",
       "      <td>2</td>\n",
       "      <td>0.61</td>\n",
       "    </tr>\n",
       "    <tr>\n",
       "      <th>3</th>\n",
       "      <td>2024-05-27</td>\n",
       "      <td>1</td>\n",
       "      <td>2</td>\n",
       "      <td>3</td>\n",
       "      <td>0.14</td>\n",
       "    </tr>\n",
       "    <tr>\n",
       "      <th>4</th>\n",
       "      <td>2024-05-27</td>\n",
       "      <td>1</td>\n",
       "      <td>2</td>\n",
       "      <td>4</td>\n",
       "      <td>0.00</td>\n",
       "    </tr>\n",
       "    <tr>\n",
       "      <th>5</th>\n",
       "      <td>2024-05-27</td>\n",
       "      <td>1</td>\n",
       "      <td>2</td>\n",
       "      <td>5</td>\n",
       "      <td>0.00</td>\n",
       "    </tr>\n",
       "    <tr>\n",
       "      <th>6</th>\n",
       "      <td>2024-05-27</td>\n",
       "      <td>1</td>\n",
       "      <td>2</td>\n",
       "      <td>6</td>\n",
       "      <td>0.00</td>\n",
       "    </tr>\n",
       "    <tr>\n",
       "      <th>7</th>\n",
       "      <td>2024-05-27</td>\n",
       "      <td>1</td>\n",
       "      <td>3</td>\n",
       "      <td>0</td>\n",
       "      <td>0.01</td>\n",
       "    </tr>\n",
       "    <tr>\n",
       "      <th>8</th>\n",
       "      <td>2024-05-27</td>\n",
       "      <td>1</td>\n",
       "      <td>3</td>\n",
       "      <td>1</td>\n",
       "      <td>0.32</td>\n",
       "    </tr>\n",
       "    <tr>\n",
       "      <th>9</th>\n",
       "      <td>2024-05-27</td>\n",
       "      <td>1</td>\n",
       "      <td>3</td>\n",
       "      <td>2</td>\n",
       "      <td>0.67</td>\n",
       "    </tr>\n",
       "  </tbody>\n",
       "</table>\n",
       "</div>"
      ],
      "text/plain": [
       "  exported_at_picking_warehouse  picking_warehouse_id  shipping_warehouse_id  \\\n",
       "0                    2024-05-27                     1                      2   \n",
       "1                    2024-05-27                     1                      2   \n",
       "2                    2024-05-27                     1                      2   \n",
       "3                    2024-05-27                     1                      2   \n",
       "4                    2024-05-27                     1                      2   \n",
       "5                    2024-05-27                     1                      2   \n",
       "6                    2024-05-27                     1                      2   \n",
       "7                    2024-05-27                     1                      3   \n",
       "8                    2024-05-27                     1                      3   \n",
       "9                    2024-05-27                     1                      3   \n",
       "\n",
       "   day  share  \n",
       "0    0   0.02  \n",
       "1    1   0.23  \n",
       "2    2   0.61  \n",
       "3    3   0.14  \n",
       "4    4   0.00  \n",
       "5    5   0.00  \n",
       "6    6   0.00  \n",
       "7    0   0.01  \n",
       "8    1   0.32  \n",
       "9    2   0.67  "
      ]
     },
     "execution_count": 196,
     "metadata": {},
     "output_type": "execute_result"
    }
   ],
   "source": [
    "print(it_cd_shift_df.shape)\n",
    "it_cd_shift_df.head(10)"
   ]
  },
  {
   "cell_type": "code",
   "execution_count": 197,
   "metadata": {},
   "outputs": [
    {
     "data": {
      "text/plain": [
       "Index(['exported_at_picking_warehouse', 'picking_warehouse_id',\n",
       "       'shipping_warehouse_id', 'day', 'share'],\n",
       "      dtype='object')"
      ]
     },
     "execution_count": 197,
     "metadata": {},
     "output_type": "execute_result"
    }
   ],
   "source": [
    "it_cd_shift_df.columns"
   ]
  },
  {
   "cell_type": "code",
   "execution_count": 198,
   "metadata": {},
   "outputs": [
    {
     "name": "stdout",
     "output_type": "stream",
     "text": [
      "<class 'pandas.core.frame.DataFrame'>\n",
      "RangeIndex: 5544 entries, 0 to 5543\n",
      "Data columns (total 5 columns):\n",
      " #   Column                         Non-Null Count  Dtype         \n",
      "---  ------                         --------------  -----         \n",
      " 0   exported_at_picking_warehouse  5544 non-null   datetime64[ns]\n",
      " 1   picking_warehouse_id           5544 non-null   int64         \n",
      " 2   shipping_warehouse_id          5544 non-null   int64         \n",
      " 3   day                            5544 non-null   int64         \n",
      " 4   share                          5544 non-null   float64       \n",
      "dtypes: datetime64[ns](1), float64(1), int64(3)\n",
      "memory usage: 216.7 KB\n"
     ]
    }
   ],
   "source": [
    "it_cd_shift_df.info()"
   ]
  },
  {
   "cell_type": "code",
   "execution_count": 199,
   "metadata": {},
   "outputs": [
    {
     "data": {
      "text/html": [
       "<div>\n",
       "<style scoped>\n",
       "    .dataframe tbody tr th:only-of-type {\n",
       "        vertical-align: middle;\n",
       "    }\n",
       "\n",
       "    .dataframe tbody tr th {\n",
       "        vertical-align: top;\n",
       "    }\n",
       "\n",
       "    .dataframe thead th {\n",
       "        text-align: right;\n",
       "    }\n",
       "</style>\n",
       "<table border=\"1\" class=\"dataframe\">\n",
       "  <thead>\n",
       "    <tr style=\"text-align: right;\">\n",
       "      <th></th>\n",
       "      <th>exported_at_picking_warehouse</th>\n",
       "      <th>picking_warehouse_id</th>\n",
       "      <th>shipping_warehouse_id</th>\n",
       "      <th>day</th>\n",
       "      <th>share</th>\n",
       "    </tr>\n",
       "  </thead>\n",
       "  <tbody>\n",
       "    <tr>\n",
       "      <th>count</th>\n",
       "      <td>5544</td>\n",
       "      <td>5544.00000</td>\n",
       "      <td>5544.00000</td>\n",
       "      <td>5544.00000</td>\n",
       "      <td>5544.000000</td>\n",
       "    </tr>\n",
       "    <tr>\n",
       "      <th>mean</th>\n",
       "      <td>2024-07-31 12:00:00.000000256</td>\n",
       "      <td>2.00000</td>\n",
       "      <td>2.00000</td>\n",
       "      <td>3.00000</td>\n",
       "      <td>0.142857</td>\n",
       "    </tr>\n",
       "    <tr>\n",
       "      <th>min</th>\n",
       "      <td>2024-05-27 00:00:00</td>\n",
       "      <td>1.00000</td>\n",
       "      <td>1.00000</td>\n",
       "      <td>0.00000</td>\n",
       "      <td>0.000000</td>\n",
       "    </tr>\n",
       "    <tr>\n",
       "      <th>25%</th>\n",
       "      <td>2024-06-28 18:00:00</td>\n",
       "      <td>1.00000</td>\n",
       "      <td>1.00000</td>\n",
       "      <td>1.00000</td>\n",
       "      <td>0.000000</td>\n",
       "    </tr>\n",
       "    <tr>\n",
       "      <th>50%</th>\n",
       "      <td>2024-07-31 12:00:00</td>\n",
       "      <td>2.00000</td>\n",
       "      <td>2.00000</td>\n",
       "      <td>3.00000</td>\n",
       "      <td>0.000000</td>\n",
       "    </tr>\n",
       "    <tr>\n",
       "      <th>75%</th>\n",
       "      <td>2024-09-02 06:00:00</td>\n",
       "      <td>3.00000</td>\n",
       "      <td>3.00000</td>\n",
       "      <td>5.00000</td>\n",
       "      <td>0.281250</td>\n",
       "    </tr>\n",
       "    <tr>\n",
       "      <th>max</th>\n",
       "      <td>2024-10-05 00:00:00</td>\n",
       "      <td>3.00000</td>\n",
       "      <td>3.00000</td>\n",
       "      <td>6.00000</td>\n",
       "      <td>1.000000</td>\n",
       "    </tr>\n",
       "    <tr>\n",
       "      <th>std</th>\n",
       "      <td></td>\n",
       "      <td>0.81657</td>\n",
       "      <td>0.81657</td>\n",
       "      <td>2.00018</td>\n",
       "      <td>0.229351</td>\n",
       "    </tr>\n",
       "  </tbody>\n",
       "</table>\n",
       "</div>"
      ],
      "text/plain": [
       "       exported_at_picking_warehouse  picking_warehouse_id  \\\n",
       "count                           5544            5544.00000   \n",
       "mean   2024-07-31 12:00:00.000000256               2.00000   \n",
       "min              2024-05-27 00:00:00               1.00000   \n",
       "25%              2024-06-28 18:00:00               1.00000   \n",
       "50%              2024-07-31 12:00:00               2.00000   \n",
       "75%              2024-09-02 06:00:00               3.00000   \n",
       "max              2024-10-05 00:00:00               3.00000   \n",
       "std                                                0.81657   \n",
       "\n",
       "       shipping_warehouse_id         day        share  \n",
       "count             5544.00000  5544.00000  5544.000000  \n",
       "mean                 2.00000     3.00000     0.142857  \n",
       "min                  1.00000     0.00000     0.000000  \n",
       "25%                  1.00000     1.00000     0.000000  \n",
       "50%                  2.00000     3.00000     0.000000  \n",
       "75%                  3.00000     5.00000     0.281250  \n",
       "max                  3.00000     6.00000     1.000000  \n",
       "std                  0.81657     2.00018     0.229351  "
      ]
     },
     "execution_count": 199,
     "metadata": {},
     "output_type": "execute_result"
    }
   ],
   "source": [
    "it_cd_shift_df.describe(include='all').fillna('')"
   ]
  },
  {
   "cell_type": "code",
   "execution_count": 200,
   "metadata": {},
   "outputs": [
    {
     "data": {
      "text/plain": [
       "exported_at_picking_warehouse    0\n",
       "picking_warehouse_id             0\n",
       "shipping_warehouse_id            0\n",
       "day                              0\n",
       "share                            0\n",
       "dtype: int64"
      ]
     },
     "execution_count": 200,
     "metadata": {},
     "output_type": "execute_result"
    }
   ],
   "source": [
    "it_cd_shift_df.isnull().sum()"
   ]
  },
  {
   "cell_type": "code",
   "execution_count": 201,
   "metadata": {},
   "outputs": [
    {
     "data": {
      "text/plain": [
       "(Timestamp('2024-05-27 00:00:00'), Timestamp('2024-10-05 00:00:00'))"
      ]
     },
     "execution_count": 201,
     "metadata": {},
     "output_type": "execute_result"
    }
   ],
   "source": [
    "it_cd_shift_df['exported_at_picking_warehouse'].min(),it_cd_shift_df['exported_at_picking_warehouse'].max()"
   ]
  },
  {
   "cell_type": "code",
   "execution_count": 202,
   "metadata": {},
   "outputs": [
    {
     "data": {
      "text/plain": [
       "Timedelta('131 days 00:00:00')"
      ]
     },
     "execution_count": 202,
     "metadata": {},
     "output_type": "execute_result"
    }
   ],
   "source": [
    "it_cd_shift_df['exported_at_picking_warehouse'].max()-it_cd_shift_df['exported_at_picking_warehouse'].min()"
   ]
  },
  {
   "cell_type": "code",
   "execution_count": 203,
   "metadata": {},
   "outputs": [
    {
     "data": {
      "text/plain": [
       "(array([1, 2, 3]), array([2, 3, 1]))"
      ]
     },
     "execution_count": 203,
     "metadata": {},
     "output_type": "execute_result"
    }
   ],
   "source": [
    "it_cd_shift_df['picking_warehouse_id'].unique(),it_cd_shift_df['shipping_warehouse_id'].unique() "
   ]
  },
  {
   "cell_type": "code",
   "execution_count": 204,
   "metadata": {},
   "outputs": [
    {
     "data": {
      "text/html": [
       "<div>\n",
       "<style scoped>\n",
       "    .dataframe tbody tr th:only-of-type {\n",
       "        vertical-align: middle;\n",
       "    }\n",
       "\n",
       "    .dataframe tbody tr th {\n",
       "        vertical-align: top;\n",
       "    }\n",
       "\n",
       "    .dataframe thead th {\n",
       "        text-align: right;\n",
       "    }\n",
       "</style>\n",
       "<table border=\"1\" class=\"dataframe\">\n",
       "  <thead>\n",
       "    <tr style=\"text-align: right;\">\n",
       "      <th></th>\n",
       "      <th>exported_at_picking_warehouse</th>\n",
       "      <th>picking_warehouse_id</th>\n",
       "      <th>shipping_warehouse_id</th>\n",
       "      <th>day</th>\n",
       "      <th>share</th>\n",
       "    </tr>\n",
       "  </thead>\n",
       "  <tbody>\n",
       "    <tr>\n",
       "      <th>0</th>\n",
       "      <td>2024-05-27</td>\n",
       "      <td>1</td>\n",
       "      <td>2</td>\n",
       "      <td>0</td>\n",
       "      <td>0.02</td>\n",
       "    </tr>\n",
       "    <tr>\n",
       "      <th>1</th>\n",
       "      <td>2024-05-27</td>\n",
       "      <td>1</td>\n",
       "      <td>2</td>\n",
       "      <td>1</td>\n",
       "      <td>0.23</td>\n",
       "    </tr>\n",
       "    <tr>\n",
       "      <th>2</th>\n",
       "      <td>2024-05-27</td>\n",
       "      <td>1</td>\n",
       "      <td>2</td>\n",
       "      <td>2</td>\n",
       "      <td>0.61</td>\n",
       "    </tr>\n",
       "    <tr>\n",
       "      <th>3</th>\n",
       "      <td>2024-05-27</td>\n",
       "      <td>1</td>\n",
       "      <td>2</td>\n",
       "      <td>3</td>\n",
       "      <td>0.14</td>\n",
       "    </tr>\n",
       "    <tr>\n",
       "      <th>4</th>\n",
       "      <td>2024-05-27</td>\n",
       "      <td>1</td>\n",
       "      <td>2</td>\n",
       "      <td>4</td>\n",
       "      <td>0.00</td>\n",
       "    </tr>\n",
       "    <tr>\n",
       "      <th>5</th>\n",
       "      <td>2024-05-27</td>\n",
       "      <td>1</td>\n",
       "      <td>2</td>\n",
       "      <td>5</td>\n",
       "      <td>0.00</td>\n",
       "    </tr>\n",
       "    <tr>\n",
       "      <th>6</th>\n",
       "      <td>2024-05-27</td>\n",
       "      <td>1</td>\n",
       "      <td>2</td>\n",
       "      <td>6</td>\n",
       "      <td>0.00</td>\n",
       "    </tr>\n",
       "    <tr>\n",
       "      <th>7</th>\n",
       "      <td>2024-05-27</td>\n",
       "      <td>1</td>\n",
       "      <td>3</td>\n",
       "      <td>0</td>\n",
       "      <td>0.01</td>\n",
       "    </tr>\n",
       "    <tr>\n",
       "      <th>8</th>\n",
       "      <td>2024-05-27</td>\n",
       "      <td>1</td>\n",
       "      <td>3</td>\n",
       "      <td>1</td>\n",
       "      <td>0.32</td>\n",
       "    </tr>\n",
       "    <tr>\n",
       "      <th>9</th>\n",
       "      <td>2024-05-27</td>\n",
       "      <td>1</td>\n",
       "      <td>3</td>\n",
       "      <td>2</td>\n",
       "      <td>0.67</td>\n",
       "    </tr>\n",
       "    <tr>\n",
       "      <th>10</th>\n",
       "      <td>2024-05-27</td>\n",
       "      <td>1</td>\n",
       "      <td>3</td>\n",
       "      <td>3</td>\n",
       "      <td>0.00</td>\n",
       "    </tr>\n",
       "    <tr>\n",
       "      <th>11</th>\n",
       "      <td>2024-05-27</td>\n",
       "      <td>1</td>\n",
       "      <td>3</td>\n",
       "      <td>4</td>\n",
       "      <td>0.00</td>\n",
       "    </tr>\n",
       "    <tr>\n",
       "      <th>12</th>\n",
       "      <td>2024-05-27</td>\n",
       "      <td>1</td>\n",
       "      <td>3</td>\n",
       "      <td>5</td>\n",
       "      <td>0.00</td>\n",
       "    </tr>\n",
       "    <tr>\n",
       "      <th>13</th>\n",
       "      <td>2024-05-27</td>\n",
       "      <td>1</td>\n",
       "      <td>3</td>\n",
       "      <td>6</td>\n",
       "      <td>0.00</td>\n",
       "    </tr>\n",
       "    <tr>\n",
       "      <th>14</th>\n",
       "      <td>2024-05-27</td>\n",
       "      <td>2</td>\n",
       "      <td>1</td>\n",
       "      <td>0</td>\n",
       "      <td>0.03</td>\n",
       "    </tr>\n",
       "    <tr>\n",
       "      <th>15</th>\n",
       "      <td>2024-05-27</td>\n",
       "      <td>2</td>\n",
       "      <td>1</td>\n",
       "      <td>1</td>\n",
       "      <td>0.33</td>\n",
       "    </tr>\n",
       "    <tr>\n",
       "      <th>16</th>\n",
       "      <td>2024-05-27</td>\n",
       "      <td>2</td>\n",
       "      <td>1</td>\n",
       "      <td>2</td>\n",
       "      <td>0.60</td>\n",
       "    </tr>\n",
       "    <tr>\n",
       "      <th>17</th>\n",
       "      <td>2024-05-27</td>\n",
       "      <td>2</td>\n",
       "      <td>1</td>\n",
       "      <td>3</td>\n",
       "      <td>0.04</td>\n",
       "    </tr>\n",
       "    <tr>\n",
       "      <th>18</th>\n",
       "      <td>2024-05-27</td>\n",
       "      <td>2</td>\n",
       "      <td>1</td>\n",
       "      <td>4</td>\n",
       "      <td>0.00</td>\n",
       "    </tr>\n",
       "    <tr>\n",
       "      <th>19</th>\n",
       "      <td>2024-05-27</td>\n",
       "      <td>2</td>\n",
       "      <td>1</td>\n",
       "      <td>5</td>\n",
       "      <td>0.00</td>\n",
       "    </tr>\n",
       "  </tbody>\n",
       "</table>\n",
       "</div>"
      ],
      "text/plain": [
       "   exported_at_picking_warehouse  picking_warehouse_id  shipping_warehouse_id  \\\n",
       "0                     2024-05-27                     1                      2   \n",
       "1                     2024-05-27                     1                      2   \n",
       "2                     2024-05-27                     1                      2   \n",
       "3                     2024-05-27                     1                      2   \n",
       "4                     2024-05-27                     1                      2   \n",
       "5                     2024-05-27                     1                      2   \n",
       "6                     2024-05-27                     1                      2   \n",
       "7                     2024-05-27                     1                      3   \n",
       "8                     2024-05-27                     1                      3   \n",
       "9                     2024-05-27                     1                      3   \n",
       "10                    2024-05-27                     1                      3   \n",
       "11                    2024-05-27                     1                      3   \n",
       "12                    2024-05-27                     1                      3   \n",
       "13                    2024-05-27                     1                      3   \n",
       "14                    2024-05-27                     2                      1   \n",
       "15                    2024-05-27                     2                      1   \n",
       "16                    2024-05-27                     2                      1   \n",
       "17                    2024-05-27                     2                      1   \n",
       "18                    2024-05-27                     2                      1   \n",
       "19                    2024-05-27                     2                      1   \n",
       "\n",
       "    day  share  \n",
       "0     0   0.02  \n",
       "1     1   0.23  \n",
       "2     2   0.61  \n",
       "3     3   0.14  \n",
       "4     4   0.00  \n",
       "5     5   0.00  \n",
       "6     6   0.00  \n",
       "7     0   0.01  \n",
       "8     1   0.32  \n",
       "9     2   0.67  \n",
       "10    3   0.00  \n",
       "11    4   0.00  \n",
       "12    5   0.00  \n",
       "13    6   0.00  \n",
       "14    0   0.03  \n",
       "15    1   0.33  \n",
       "16    2   0.60  \n",
       "17    3   0.04  \n",
       "18    4   0.00  \n",
       "19    5   0.00  "
      ]
     },
     "execution_count": 204,
     "metadata": {},
     "output_type": "execute_result"
    }
   ],
   "source": [
    "it_cd_shift_df.head(20)"
   ]
  },
  {
   "cell_type": "markdown",
   "metadata": {},
   "source": [
    "Upon visual inspection it turns out that this table gives the delay in days and the share is the proportion of item shipped in those many days of delay."
   ]
  },
  {
   "cell_type": "code",
   "execution_count": 205,
   "metadata": {},
   "outputs": [
    {
     "data": {
      "text/plain": [
       "array([0, 1, 2, 3, 4, 5, 6])"
      ]
     },
     "execution_count": 205,
     "metadata": {},
     "output_type": "execute_result"
    }
   ],
   "source": [
    "it_cd_shift_df['day'].unique()"
   ]
  },
  {
   "cell_type": "markdown",
   "metadata": {},
   "source": [
    "### Items blocked per CD item"
   ]
  },
  {
   "cell_type": "code",
   "execution_count": 206,
   "metadata": {},
   "outputs": [
    {
     "name": "stdout",
     "output_type": "stream",
     "text": [
      "(70012, 4)\n"
     ]
    },
    {
     "data": {
      "text/html": [
       "<div>\n",
       "<style scoped>\n",
       "    .dataframe tbody tr th:only-of-type {\n",
       "        vertical-align: middle;\n",
       "    }\n",
       "\n",
       "    .dataframe tbody tr th {\n",
       "        vertical-align: top;\n",
       "    }\n",
       "\n",
       "    .dataframe thead th {\n",
       "        text-align: right;\n",
       "    }\n",
       "</style>\n",
       "<table border=\"1\" class=\"dataframe\">\n",
       "  <thead>\n",
       "    <tr style=\"text-align: right;\">\n",
       "      <th></th>\n",
       "      <th>date</th>\n",
       "      <th>shipping_wh</th>\n",
       "      <th>country_code</th>\n",
       "      <th>items_per_cross_docking_cd_item</th>\n",
       "    </tr>\n",
       "  </thead>\n",
       "  <tbody>\n",
       "    <tr>\n",
       "      <th>0</th>\n",
       "      <td>2023-03-01</td>\n",
       "      <td>1</td>\n",
       "      <td>AT</td>\n",
       "      <td>3.17</td>\n",
       "    </tr>\n",
       "    <tr>\n",
       "      <th>1</th>\n",
       "      <td>2023-03-01</td>\n",
       "      <td>2</td>\n",
       "      <td>AT</td>\n",
       "      <td>3.17</td>\n",
       "    </tr>\n",
       "    <tr>\n",
       "      <th>2</th>\n",
       "      <td>2023-03-01</td>\n",
       "      <td>3</td>\n",
       "      <td>AT</td>\n",
       "      <td>3.17</td>\n",
       "    </tr>\n",
       "    <tr>\n",
       "      <th>3</th>\n",
       "      <td>2023-03-01</td>\n",
       "      <td>4</td>\n",
       "      <td>AT</td>\n",
       "      <td>3.17</td>\n",
       "    </tr>\n",
       "    <tr>\n",
       "      <th>4</th>\n",
       "      <td>2023-03-01</td>\n",
       "      <td>1</td>\n",
       "      <td>BE</td>\n",
       "      <td>2.78</td>\n",
       "    </tr>\n",
       "  </tbody>\n",
       "</table>\n",
       "</div>"
      ],
      "text/plain": [
       "        date  shipping_wh country_code  items_per_cross_docking_cd_item\n",
       "0 2023-03-01            1           AT                             3.17\n",
       "1 2023-03-01            2           AT                             3.17\n",
       "2 2023-03-01            3           AT                             3.17\n",
       "3 2023-03-01            4           AT                             3.17\n",
       "4 2023-03-01            1           BE                             2.78"
      ]
     },
     "execution_count": 206,
     "metadata": {},
     "output_type": "execute_result"
    }
   ],
   "source": [
    "print(it_blocked_df.shape)\n",
    "it_blocked_df.head()"
   ]
  },
  {
   "cell_type": "code",
   "execution_count": 207,
   "metadata": {},
   "outputs": [
    {
     "data": {
      "text/plain": [
       "Index(['date', 'shipping_wh', 'country_code',\n",
       "       'items_per_cross_docking_cd_item'],\n",
       "      dtype='object')"
      ]
     },
     "execution_count": 207,
     "metadata": {},
     "output_type": "execute_result"
    }
   ],
   "source": [
    "it_blocked_df.columns"
   ]
  },
  {
   "cell_type": "code",
   "execution_count": 208,
   "metadata": {},
   "outputs": [
    {
     "name": "stdout",
     "output_type": "stream",
     "text": [
      "<class 'pandas.core.frame.DataFrame'>\n",
      "RangeIndex: 70012 entries, 0 to 70011\n",
      "Data columns (total 4 columns):\n",
      " #   Column                           Non-Null Count  Dtype         \n",
      "---  ------                           --------------  -----         \n",
      " 0   date                             70012 non-null  datetime64[ns]\n",
      " 1   shipping_wh                      70012 non-null  int64         \n",
      " 2   country_code                     70012 non-null  object        \n",
      " 3   items_per_cross_docking_cd_item  70012 non-null  float64       \n",
      "dtypes: datetime64[ns](1), float64(1), int64(1), object(1)\n",
      "memory usage: 2.1+ MB\n"
     ]
    }
   ],
   "source": [
    "it_blocked_df.info()"
   ]
  },
  {
   "cell_type": "code",
   "execution_count": 209,
   "metadata": {},
   "outputs": [
    {
     "data": {
      "text/html": [
       "<div>\n",
       "<style scoped>\n",
       "    .dataframe tbody tr th:only-of-type {\n",
       "        vertical-align: middle;\n",
       "    }\n",
       "\n",
       "    .dataframe tbody tr th {\n",
       "        vertical-align: top;\n",
       "    }\n",
       "\n",
       "    .dataframe thead th {\n",
       "        text-align: right;\n",
       "    }\n",
       "</style>\n",
       "<table border=\"1\" class=\"dataframe\">\n",
       "  <thead>\n",
       "    <tr style=\"text-align: right;\">\n",
       "      <th></th>\n",
       "      <th>date</th>\n",
       "      <th>shipping_wh</th>\n",
       "      <th>country_code</th>\n",
       "      <th>items_per_cross_docking_cd_item</th>\n",
       "    </tr>\n",
       "  </thead>\n",
       "  <tbody>\n",
       "    <tr>\n",
       "      <th>count</th>\n",
       "      <td>70012</td>\n",
       "      <td>70012.0</td>\n",
       "      <td>70012</td>\n",
       "      <td>70012.0</td>\n",
       "    </tr>\n",
       "    <tr>\n",
       "      <th>unique</th>\n",
       "      <td></td>\n",
       "      <td></td>\n",
       "      <td>31</td>\n",
       "      <td></td>\n",
       "    </tr>\n",
       "    <tr>\n",
       "      <th>top</th>\n",
       "      <td></td>\n",
       "      <td></td>\n",
       "      <td>AT</td>\n",
       "      <td></td>\n",
       "    </tr>\n",
       "    <tr>\n",
       "      <th>freq</th>\n",
       "      <td></td>\n",
       "      <td></td>\n",
       "      <td>2260</td>\n",
       "      <td></td>\n",
       "    </tr>\n",
       "    <tr>\n",
       "      <th>mean</th>\n",
       "      <td>2023-12-08 00:49:21.777981184</td>\n",
       "      <td>2.5</td>\n",
       "      <td></td>\n",
       "      <td>2.091758</td>\n",
       "    </tr>\n",
       "    <tr>\n",
       "      <th>min</th>\n",
       "      <td>2023-03-01 00:00:00</td>\n",
       "      <td>1.0</td>\n",
       "      <td></td>\n",
       "      <td>1.2</td>\n",
       "    </tr>\n",
       "    <tr>\n",
       "      <th>25%</th>\n",
       "      <td>2023-07-20 00:00:00</td>\n",
       "      <td>1.75</td>\n",
       "      <td></td>\n",
       "      <td>1.67</td>\n",
       "    </tr>\n",
       "    <tr>\n",
       "      <th>50%</th>\n",
       "      <td>2023-12-08 00:00:00</td>\n",
       "      <td>2.5</td>\n",
       "      <td></td>\n",
       "      <td>2.17</td>\n",
       "    </tr>\n",
       "    <tr>\n",
       "      <th>75%</th>\n",
       "      <td>2024-04-27 00:00:00</td>\n",
       "      <td>3.25</td>\n",
       "      <td></td>\n",
       "      <td>2.51</td>\n",
       "    </tr>\n",
       "    <tr>\n",
       "      <th>max</th>\n",
       "      <td>2024-09-15 00:00:00</td>\n",
       "      <td>4.0</td>\n",
       "      <td></td>\n",
       "      <td>3.17</td>\n",
       "    </tr>\n",
       "    <tr>\n",
       "      <th>std</th>\n",
       "      <td></td>\n",
       "      <td>1.118042</td>\n",
       "      <td></td>\n",
       "      <td>0.571842</td>\n",
       "    </tr>\n",
       "  </tbody>\n",
       "</table>\n",
       "</div>"
      ],
      "text/plain": [
       "                                 date shipping_wh country_code  \\\n",
       "count                           70012     70012.0        70012   \n",
       "unique                                                      31   \n",
       "top                                                         AT   \n",
       "freq                                                      2260   \n",
       "mean    2023-12-08 00:49:21.777981184         2.5                \n",
       "min               2023-03-01 00:00:00         1.0                \n",
       "25%               2023-07-20 00:00:00        1.75                \n",
       "50%               2023-12-08 00:00:00         2.5                \n",
       "75%               2024-04-27 00:00:00        3.25                \n",
       "max               2024-09-15 00:00:00         4.0                \n",
       "std                                      1.118042                \n",
       "\n",
       "       items_per_cross_docking_cd_item  \n",
       "count                          70012.0  \n",
       "unique                                  \n",
       "top                                     \n",
       "freq                                    \n",
       "mean                          2.091758  \n",
       "min                                1.2  \n",
       "25%                               1.67  \n",
       "50%                               2.17  \n",
       "75%                               2.51  \n",
       "max                               3.17  \n",
       "std                           0.571842  "
      ]
     },
     "execution_count": 209,
     "metadata": {},
     "output_type": "execute_result"
    }
   ],
   "source": [
    "it_blocked_df.describe(include='all').fillna('')"
   ]
  },
  {
   "cell_type": "code",
   "execution_count": 210,
   "metadata": {},
   "outputs": [
    {
     "data": {
      "text/plain": [
       "date                               0\n",
       "shipping_wh                        0\n",
       "country_code                       0\n",
       "items_per_cross_docking_cd_item    0\n",
       "dtype: int64"
      ]
     },
     "execution_count": 210,
     "metadata": {},
     "output_type": "execute_result"
    }
   ],
   "source": [
    "it_blocked_df.isnull().sum()"
   ]
  },
  {
   "cell_type": "code",
   "execution_count": 211,
   "metadata": {},
   "outputs": [
    {
     "data": {
      "text/plain": [
       "(Timestamp('2023-03-01 00:00:00'), Timestamp('2024-09-15 00:00:00'))"
      ]
     },
     "execution_count": 211,
     "metadata": {},
     "output_type": "execute_result"
    }
   ],
   "source": [
    "it_blocked_df['date'].min(),it_blocked_df['date'].max()"
   ]
  },
  {
   "cell_type": "code",
   "execution_count": 212,
   "metadata": {},
   "outputs": [
    {
     "data": {
      "text/plain": [
       "array([1, 2, 3, 4])"
      ]
     },
     "execution_count": 212,
     "metadata": {},
     "output_type": "execute_result"
    }
   ],
   "source": [
    "it_blocked_df['shipping_wh'].unique()"
   ]
  },
  {
   "cell_type": "code",
   "execution_count": 213,
   "metadata": {},
   "outputs": [
    {
     "name": "stdout",
     "output_type": "stream",
     "text": [
      "31\n"
     ]
    },
    {
     "data": {
      "text/plain": [
       "array(['AT', 'BE', 'BG', 'CH', 'CY', 'CZ', 'DE', 'DK', 'EE', 'ES', 'FI',\n",
       "       'FR', 'GR', 'HR', 'HU', 'IE', 'IL', 'IT', 'LT', 'LU', 'LV', 'NL',\n",
       "       'NO', 'PL', 'PT', 'RO', 'SA', 'SE', 'SI', 'SK', 'ZZ'], dtype=object)"
      ]
     },
     "execution_count": 213,
     "metadata": {},
     "output_type": "execute_result"
    }
   ],
   "source": [
    "print(len(it_blocked_df['country_code'].unique()))\n",
    "it_blocked_df['country_code'].unique()"
   ]
  },
  {
   "cell_type": "markdown",
   "metadata": {},
   "source": [
    "In this dataset, the number of countries is 31 where as in previous datasets it was 29.m"
   ]
  },
  {
   "cell_type": "code",
   "execution_count": 214,
   "metadata": {},
   "outputs": [
    {
     "data": {
      "text/plain": [
       "{'IL', 'SA'}"
      ]
     },
     "execution_count": 214,
     "metadata": {},
     "output_type": "execute_result"
    }
   ],
   "source": [
    "set(it_blocked_df['country_code'].unique()) - set(b2c_sales_df['planning_shop_cluster'].unique())"
   ]
  },
  {
   "cell_type": "markdown",
   "metadata": {},
   "source": [
    "Countries with code IL and SA are the ones which are extra in it_blocked_df"
   ]
  },
  {
   "cell_type": "code",
   "execution_count": 215,
   "metadata": {},
   "outputs": [
    {
     "data": {
      "text/plain": [
       "(np.float64(1.2), np.float64(3.17))"
      ]
     },
     "execution_count": 215,
     "metadata": {},
     "output_type": "execute_result"
    }
   ],
   "source": [
    "it_blocked_df['items_per_cross_docking_cd_item'].min(),it_blocked_df['items_per_cross_docking_cd_item'].max()"
   ]
  },
  {
   "cell_type": "markdown",
   "metadata": {},
   "source": [
    "#### Basic conclusions about the datasets\n",
    "\n",
    "* No null records\n",
    "* date columns need to be converted into datetime"
   ]
  },
  {
   "cell_type": "code",
   "execution_count": null,
   "metadata": {},
   "outputs": [],
   "source": []
  }
 ],
 "metadata": {
  "kernelspec": {
   "display_name": "aboutyou",
   "language": "python",
   "name": "python3"
  },
  "language_info": {
   "codemirror_mode": {
    "name": "ipython",
    "version": 3
   },
   "file_extension": ".py",
   "mimetype": "text/x-python",
   "name": "python",
   "nbconvert_exporter": "python",
   "pygments_lexer": "ipython3",
   "version": "3.9.21"
  }
 },
 "nbformat": 4,
 "nbformat_minor": 2
}
